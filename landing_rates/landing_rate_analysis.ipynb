{
 "cells": [
  {
   "cell_type": "code",
   "execution_count": 2,
   "metadata": {},
   "outputs": [],
   "source": [
    "import pandas as pd\n",
    "import seaborn as sns"
   ]
  },
  {
   "cell_type": "code",
   "execution_count": 4,
   "metadata": {},
   "outputs": [],
   "source": [
    "edw_1 = pd.read_csv('KEDW-01-26-22-7PM-24HRS')\n",
    "edw_2 = pd.read_csv('KEDW-01-26-22-7AM-24HRS')\n",
    "nfl_1 = pd.read_csv('KNFL-01-26-22-7PM-24HRS')\n",
    "nfl_2 = pd.read_csv('KNFL-01-26-22-7AM-24HRS')\n",
    "ntu_1 = pd.read_csv('KNTU-01-26-22-7PM-24HRS')\n",
    "ntu_2 = pd.read_csv('KNTU-01-26-22-7AM-24HRS')"
   ]
  },
  {
   "cell_type": "code",
   "execution_count": 5,
   "metadata": {},
   "outputs": [],
   "source": [
    "edw = pd.concat([edw_1, edw_2])\n",
    "nfl = pd.concat([nfl_1, nfl_2])\n",
    "ntu = pd.concat([ntu_1, ntu_2])"
   ]
  },
  {
   "cell_type": "markdown",
   "metadata": {},
   "source": [
    "## Overall Amount of Aircraft Flying within a 5 Mile Radius"
   ]
  },
  {
   "cell_type": "code",
   "execution_count": 10,
   "metadata": {},
   "outputs": [
    {
     "name": "stdout",
     "output_type": "stream",
     "text": [
      "EDW: 9\n",
      "NFL: 28\n",
      "NTU: 83\n"
     ]
    }
   ],
   "source": [
    "print('EDW: ' + str(edw['callsign'].nunique()))\n",
    "print('NFL: ' + str(nfl['callsign'].nunique()))\n",
    "print('NTU: ' + str(ntu['callsign'].nunique()))"
   ]
  },
  {
   "cell_type": "code",
   "execution_count": 45,
   "metadata": {},
   "outputs": [
    {
     "data": {
      "text/plain": [
       "<AxesSubplot:>"
      ]
     },
     "execution_count": 45,
     "metadata": {},
     "output_type": "execute_result"
    },
    {
     "data": {
      "image/png": "[encoded data removed]",
      "text/plain": [
       "<Figure size 432x288 with 1 Axes>"
      ]
     },
     "metadata": {
      "needs_background": "light"
     },
     "output_type": "display_data"
    }
   ],
   "source": [
    "sns.barplot(x = ['KEDW', 'KNFL', 'KNTU'], y = [edw['callsign'].nunique(),nfl['callsign'].nunique(),ntu['callsign'].nunique()])"
   ]
  },
  {
   "cell_type": "markdown",
   "metadata": {},
   "source": [
    "Thus here are the hourly rates of airplanes flying within 5 miles of the airport:\n",
    "- KEDW: .375\n",
    "- KNFL: 1.17\n",
    "- KNTU: 3.46"
   ]
  },
  {
   "cell_type": "markdown",
   "metadata": {},
   "source": [
    "However... I want to double-check to make sure this data makes sense. I'll check to ensure these aircrafts are actually landing at the airport and not simply flying above it."
   ]
  },
  {
   "cell_type": "markdown",
   "metadata": {},
   "source": [
    "## Quick Analysis of Types of Aircraft Flying Nearby"
   ]
  },
  {
   "cell_type": "code",
   "execution_count": 20,
   "metadata": {},
   "outputs": [
    {
     "name": "stdout",
     "output_type": "stream",
     "text": [
      "0    JBU553  \n",
      "1    JBU553  \n",
      "2    NKS1810 \n",
      "3    NKS1810 \n",
      "4    CMP832  \n",
      "5    JBU1168 \n",
      "6    JBU1168 \n",
      "7    JBU1002 \n",
      "8    JBU1154 \n",
      "9    JBU1154 \n",
      "Name: callsign, dtype: object\n"
     ]
    }
   ],
   "source": [
    "print(ntu['callsign'].head(10))"
   ]
  },
  {
   "cell_type": "markdown",
   "metadata": {},
   "source": [
    "It seems that many aircraft are simply commercial aircraft that happen to be flying within the area. To assess whether these aircrafta are actually landing / departing from their respective sections, we can examine the altitudes of these aircraft."
   ]
  },
  {
   "cell_type": "markdown",
   "metadata": {},
   "source": [
    "## Amount of Aircraft Within 1000 Meters Above the Ground and Within a 5 Mile Radius"
   ]
  },
  {
   "cell_type": "code",
   "execution_count": 17,
   "metadata": {},
   "outputs": [
    {
     "name": "stdout",
     "output_type": "stream",
     "text": [
      "EDW: 0\n",
      "NFL: 0\n",
      "NTU: 0\n"
     ]
    }
   ],
   "source": [
    "print('EDW: ' + str(edw[edw['geo_altitude']<1000]['callsign'].nunique()))\n",
    "print('NFL: ' + str(nfl[nfl['geo_altitude']<1000]['callsign'].nunique()))\n",
    "print('NTU: ' + str(ntu[ntu['geo_altitude']<1000]['callsign'].nunique()))"
   ]
  },
  {
   "cell_type": "markdown",
   "metadata": {},
   "source": [
    "It seems that no aircraft have been present in all three of these airports (in the 24 hour timeframe) within 1000 meters above the ground. Let's now look at the average altitude of aircraft:"
   ]
  },
  {
   "cell_type": "code",
   "execution_count": 26,
   "metadata": {},
   "outputs": [
    {
     "name": "stdout",
     "output_type": "stream",
     "text": [
      "EDW: 7043.2863157894735\n",
      "NFL: 11082.983448275863\n",
      "ENTU: 10391.28\n"
     ]
    }
   ],
   "source": [
    "print('EDW: ' + str(edw['geo_altitude'].mean()))\n",
    "print('NFL: ' + str(nfl['geo_altitude'].mean()))\n",
    "print('ENTU: ' + str(ntu['geo_altitude'].mean()))"
   ]
  },
  {
   "cell_type": "markdown",
   "metadata": {},
   "source": [
    "Because no aircraft were at the altitude needed to land, the nubmers provided at the top likely do not encapsulate landing rate. Most likely, ADS-B data for military aircraft is not publically available / captured by the OpenSky Network. However, it might still be useful to understand how many aircrafts are flying within each airport's specified airspaces."
   ]
  },
  {
   "cell_type": "markdown",
   "metadata": {},
   "source": [
    "## Notable Exceptions"
   ]
  },
  {
   "cell_type": "markdown",
   "metadata": {},
   "source": [
    "With that beings aid, there are some callsigns that seem to fit within the military environments of these airports."
   ]
  },
  {
   "cell_type": "code",
   "execution_count": 40,
   "metadata": {},
   "outputs": [
    {
     "data": {
      "text/plain": [
       "'NASA747 '"
      ]
     },
     "execution_count": 40,
     "metadata": {},
     "output_type": "execute_result"
    }
   ],
   "source": [
    "nfl.iloc[11]['callsign']"
   ]
  },
  {
   "cell_type": "code",
   "execution_count": 42,
   "metadata": {},
   "outputs": [
    {
     "data": {
      "text/plain": [
       "'JANET10 '"
      ]
     },
     "execution_count": 42,
     "metadata": {},
     "output_type": "execute_result"
    }
   ],
   "source": [
    "edw.iloc[10]['callsign']"
   ]
  }
 ],
 "metadata": {
  "interpreter": {
   "hash": "ebd3d42607388af7a3d5aa59e4eed1638b2a6a14bf60c8278b9a552dd0a5bc13"
  },
  "kernelspec": {
   "display_name": "Python 3.8.5 64-bit",
   "language": "python",
   "name": "python3"
  },
  "language_info": {
   "codemirror_mode": {
    "name": "ipython",
    "version": 3
   },
   "file_extension": ".py",
   "mimetype": "text/x-python",
   "name": "python",
   "nbconvert_exporter": "python",
   "pygments_lexer": "ipython3",
   "version": "3.8.5"
  },
  "orig_nbformat": 4
 },
 "nbformat": 4,
 "nbformat_minor": 2
}
