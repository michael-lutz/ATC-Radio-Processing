{
 "cells": [
  {
   "cell_type": "code",
   "execution_count": 1,
   "metadata": {},
   "outputs": [],
   "source": [
    "import pandas as pd\n",
    "import numpy as np\n",
    "import matplotlib.pyplot as plt\n",
    "import seaborn as sns\n",
    "%matplotlib inline"
   ]
  },
  {
   "cell_type": "code",
   "execution_count": 1,
   "metadata": {},
   "outputs": [],
   "source": [
    "from ontological_processor import OntologicalProcessor\n",
    "from preprocess_transcription import Preprocessor\n",
    "from callsign_matcher import CallsignMatcher"
   ]
  },
  {
   "cell_type": "markdown",
   "metadata": {},
   "source": [
    "# Loading Data"
   ]
  },
  {
   "cell_type": "code",
   "execution_count": 3,
   "metadata": {},
   "outputs": [],
   "source": [
    "transcription_file_loc = '../sample_transcriptions/2021-11-02.txt'\n",
    "proc = Preprocessor(transcription_file_loc)"
   ]
  },
  {
   "cell_type": "code",
   "execution_count": 4,
   "metadata": {},
   "outputs": [
    {
     "data": {
      "image/png": "[encoded data removed]",
      "text/plain": [
       "<Figure size 864x288 with 1 Axes>"
      ]
     },
     "metadata": {
      "needs_background": "light"
     },
     "output_type": "display_data"
    }
   ],
   "source": [
    "proc.plot_length_distribution()"
   ]
  },
  {
   "cell_type": "code",
   "execution_count": 5,
   "metadata": {},
   "outputs": [],
   "source": [
    "df = proc.get_transcriptions(15)"
   ]
  },
  {
   "cell_type": "code",
   "execution_count": 6,
   "metadata": {},
   "outputs": [],
   "source": [
    "df.to_csv('test.csv', index=False)"
   ]
  },
  {
   "cell_type": "markdown",
   "metadata": {},
   "source": [
    "# Processing"
   ]
  },
  {
   "cell_type": "code",
   "execution_count": 7,
   "metadata": {},
   "outputs": [],
   "source": [
    "op = OntologicalProcessor()"
   ]
  },
  {
   "cell_type": "code",
   "execution_count": 8,
   "metadata": {},
   "outputs": [
    {
     "name": "stderr",
     "output_type": "stream",
     "text": [
      "C:\\Users\\Michael.Lutz22\\AppData\\Local\\Programs\\Python\\Python37\\lib\\site-packages\\ipykernel_launcher.py:1: SettingWithCopyWarning: \n",
      "A value is trying to be set on a copy of a slice from a DataFrame.\n",
      "Try using .loc[row_indexer,col_indexer] = value instead\n",
      "\n",
      "See the caveats in the documentation: http://pandas.pydata.org/pandas-docs/stable/user_guide/indexing.html#returning-a-view-versus-a-copy\n",
      "  \"\"\"Entry point for launching an IPython kernel.\n",
      "C:\\Users\\Michael.Lutz22\\AppData\\Local\\Programs\\Python\\Python37\\lib\\site-packages\\ipykernel_launcher.py:2: SettingWithCopyWarning: \n",
      "A value is trying to be set on a copy of a slice from a DataFrame.\n",
      "Try using .loc[row_indexer,col_indexer] = value instead\n",
      "\n",
      "See the caveats in the documentation: http://pandas.pydata.org/pandas-docs/stable/user_guide/indexing.html#returning-a-view-versus-a-copy\n",
      "  \n",
      "C:\\Users\\Michael.Lutz22\\AppData\\Local\\Programs\\Python\\Python37\\lib\\site-packages\\ipykernel_launcher.py:3: SettingWithCopyWarning: \n",
      "A value is trying to be set on a copy of a slice from a DataFrame.\n",
      "Try using .loc[row_indexer,col_indexer] = value instead\n",
      "\n",
      "See the caveats in the documentation: http://pandas.pydata.org/pandas-docs/stable/user_guide/indexing.html#returning-a-view-versus-a-copy\n",
      "  This is separate from the ipykernel package so we can avoid doing imports until\n",
      "C:\\Users\\Michael.Lutz22\\AppData\\Local\\Programs\\Python\\Python37\\lib\\site-packages\\ipykernel_launcher.py:4: SettingWithCopyWarning: \n",
      "A value is trying to be set on a copy of a slice from a DataFrame.\n",
      "Try using .loc[row_indexer,col_indexer] = value instead\n",
      "\n",
      "See the caveats in the documentation: http://pandas.pydata.org/pandas-docs/stable/user_guide/indexing.html#returning-a-view-versus-a-copy\n",
      "  after removing the cwd from sys.path.\n",
      "C:\\Users\\Michael.Lutz22\\AppData\\Local\\Programs\\Python\\Python37\\lib\\site-packages\\ipykernel_launcher.py:5: SettingWithCopyWarning: \n",
      "A value is trying to be set on a copy of a slice from a DataFrame.\n",
      "Try using .loc[row_indexer,col_indexer] = value instead\n",
      "\n",
      "See the caveats in the documentation: http://pandas.pydata.org/pandas-docs/stable/user_guide/indexing.html#returning-a-view-versus-a-copy\n",
      "  \"\"\"\n",
      "C:\\Users\\Michael.Lutz22\\AppData\\Local\\Programs\\Python\\Python37\\lib\\site-packages\\ipykernel_launcher.py:6: SettingWithCopyWarning: \n",
      "A value is trying to be set on a copy of a slice from a DataFrame.\n",
      "Try using .loc[row_indexer,col_indexer] = value instead\n",
      "\n",
      "See the caveats in the documentation: http://pandas.pydata.org/pandas-docs/stable/user_guide/indexing.html#returning-a-view-versus-a-copy\n",
      "  \n"
     ]
    }
   ],
   "source": [
    "df['altitude'] = df['Transcriptions'].apply(op.find_alt)\n",
    "df['heading'] = df['Transcriptions'].apply(op.find_turn)\n",
    "df['speed'] = df['Transcriptions'].apply(op.find_speed)\n",
    "df['contact'] = df['Transcriptions'].apply(op.find_contact)\n",
    "df['clearance'] = df['Transcriptions'].apply(op.find_clearance)\n",
    "df['callsign'] = df['Transcriptions'].apply(op.find_callsign)\n",
    "\n"
   ]
  },
  {
   "cell_type": "markdown",
   "metadata": {},
   "source": [
    "# Callsign Matcher\n",
    "Accounting for incomplete or nearly-complete callsign utterances"
   ]
  },
  {
   "cell_type": "code",
   "execution_count": 22,
   "metadata": {},
   "outputs": [],
   "source": [
    "flight_data_link = '../flight_data/11-2-21.csv'\n",
    "cm = CallsignMatcher(flight_data_link)"
   ]
  },
  {
   "cell_type": "code",
   "execution_count": 24,
   "metadata": {},
   "outputs": [],
   "source": [
    "df = pd.read_csv(flight_data_link)"
   ]
  },
  {
   "cell_type": "code",
   "execution_count": 76,
   "metadata": {},
   "outputs": [],
   "source": [
    "def find_match(callsign, threshold=None):\n",
    "        # calculate levenshtein distance for string on all of the available callsigns\n",
    "        l_distances = df['callsign'].apply(lambda x: iterative_levenshtein(callsign, x))\n",
    "        return df.iloc[l_distances.idxmin()]"
   ]
  },
  {
   "cell_type": "code",
   "execution_count": 83,
   "metadata": {},
   "outputs": [
    {
     "data": {
      "text/plain": [
       "icao24                    ad3d4e\n",
       "callsign                AAL2854 \n",
       "origin_country     United States\n",
       "time_position         1635884356\n",
       "last_contact          1635884356\n",
       "longitude               -96.0856\n",
       "latitude                  32.977\n",
       "baro_altitude            6682.74\n",
       "on_ground                  False\n",
       "velocity                     218\n",
       "heading                     68.4\n",
       "vertical_rate              10.08\n",
       "sensors                      NaN\n",
       "geo_altitude             6903.72\n",
       "squawk                      2314\n",
       "spi                        False\n",
       "position_source                0\n",
       "fetch_time            1635884357\n",
       "Name: 7, dtype: object"
      ]
     },
     "execution_count": 83,
     "metadata": {},
     "output_type": "execute_result"
    }
   ],
   "source": [
    "find_match('AAL2854')"
   ]
  },
  {
   "cell_type": "code",
   "execution_count": 9,
   "metadata": {},
   "outputs": [],
   "source": [
    "df.to_csv('test.csv', index=False)"
   ]
  },
  {
   "cell_type": "code",
   "execution_count": 11,
   "metadata": {},
   "outputs": [
    {
     "data": {
      "text/plain": [
       "NA          1041\n",
       "AAL1519       16\n",
       "AAL1892       13\n",
       "AAL356        12\n",
       "AAL221        12\n",
       "            ... \n",
       "ENY4065        1\n",
       "AAL1119        1\n",
       "AAL65670       1\n",
       "SKW4582        1\n",
       "ENY3922        1\n",
       "Name: callsign, Length: 456, dtype: int64"
      ]
     },
     "execution_count": 11,
     "metadata": {},
     "output_type": "execute_result"
    }
   ],
   "source": [
    "\n",
    "df.callsign.value_counts"
   ]
  },
  {
   "cell_type": "code",
   "execution_count": 10,
   "metadata": {},
   "outputs": [
    {
     "data": {
      "text/plain": [
       "NA            1344\n",
       "Missing ST     368\n",
       "330             75\n",
       "020             60\n",
       "090             35\n",
       "              ... \n",
       "174              1\n",
       "656              1\n",
       "767              1\n",
       "426              1\n",
       "520              1\n",
       "Name: heading, Length: 80, dtype: int64"
      ]
     },
     "execution_count": 10,
     "metadata": {},
     "output_type": "execute_result"
    }
   ],
   "source": [
    "df['heading'].value_counts()"
   ]
  },
  {
   "cell_type": "code",
   "execution_count": 8,
   "metadata": {},
   "outputs": [],
   "source": [
    "string = df['Transcriptions'].iloc[2]"
   ]
  },
  {
   "cell_type": "code",
   "execution_count": 74,
   "metadata": {},
   "outputs": [],
   "source": [
    "def iterative_levenshtein(s, t):\n",
    "    \"\"\" \n",
    "        iterative_levenshtein(s, t) -> ldist\n",
    "        ldist is the Levenshtein distance between the strings \n",
    "        s and t.\n",
    "        For all i and j, dist[i,j] will contain the Levenshtein \n",
    "        distance between the first i characters of s and the \n",
    "        first j characters of t\n",
    "    \"\"\"\n",
    "\n",
    "    if not type(t) == str:\n",
    "        return 9999\n",
    "\n",
    "    s = s.strip()\n",
    "    t = t.strip()\n",
    "\n",
    "    if t == s:\n",
    "        return 0\n",
    "\n",
    "    rows = len(s)+1\n",
    "    cols = len(t)+1\n",
    "    dist = [[0 for x in range(cols)] for x in range(rows)]\n",
    "\n",
    "    # source prefixes can be transformed into empty strings \n",
    "    # by deletions:\n",
    "    for i in range(1, rows):\n",
    "        dist[i][0] = i\n",
    "\n",
    "    # target prefixes can be created from an empty source string\n",
    "    # by inserting the characters\n",
    "    for i in range(1, cols):\n",
    "        dist[0][i] = i\n",
    "        \n",
    "    for col in range(1, cols):\n",
    "        for row in range(1, rows):\n",
    "            if s[row-1] == t[col-1]:\n",
    "                cost = 0\n",
    "            else:\n",
    "                cost = 1\n",
    "            dist[row][col] = min(dist[row-1][col] + 1,      # deletion\n",
    "                                 dist[row][col-1] + 1,      # insertion\n",
    "                                 dist[row-1][col-1] + cost) # substitution\n",
    "\n",
    "    \n",
    " \n",
    "    return dist[row][col]"
   ]
  },
  {
   "cell_type": "code",
   "execution_count": 20,
   "metadata": {},
   "outputs": [],
   "source": [
    "import re"
   ]
  },
  {
   "cell_type": "code",
   "execution_count": 47,
   "metadata": {},
   "outputs": [],
   "source": [
    "def process_callsign(string):\n",
    "    string = string.lower()\n",
    "    #lower \n",
    "    \"\"\"\n",
    "        process_callsign(string) -> callsign\n",
    "        callsign is the callsign of the aircraft in the string\n",
    "    \"\"\"\n",
    "    callsign = string.split(' ')\n",
    "    callsign_map = {\"american\":\"AAL\", \"november\":\"N\", \"jetblue\":\"JBU\",\n",
    "                    \"envoy\":\"ENY\", \"skywest\":\"SKW\", \"skylan\":\"SKA\",\n",
    "                    \"cessna\":\"N\", \"sioux\":\"UND\", \"delta\":\"DAL\",\n",
    "                    \"jet\":\"JSX\", \"fedex\":\"FDX\", \"flexjet\":\"LXJ\"} \n",
    "    for key in callsign_map.keys():\n",
    "        abbreviated_callsign = callsign[0].replace(key, callsign_map[key])\n",
    "        if abbreviated_callsign != callsign[0]:\n",
    "            return abbreviated_callsign+callsign[1]\n",
    "    return 'N'+callsign[1]"
   ]
  },
  {
   "cell_type": "code",
   "execution_count": 46,
   "metadata": {},
   "outputs": [
    {
     "data": {
      "text/plain": [
       "'FDXd335'"
      ]
     },
     "execution_count": 46,
     "metadata": {},
     "output_type": "execute_result"
    }
   ],
   "source": [
    "df['callsign']"
   ]
  },
  {
   "cell_type": "code",
   "execution_count": 15,
   "metadata": {},
   "outputs": [
    {
     "data": {
      "text/plain": [
       "1"
      ]
     },
     "execution_count": 15,
     "metadata": {},
     "output_type": "execute_result"
    }
   ],
   "source": [
    "iterative_levenshtein('abc', 'abcd')"
   ]
  },
  {
   "cell_type": "code",
   "execution_count": 19,
   "metadata": {},
   "outputs": [
    {
     "data": {
      "text/plain": [
       "NA     825\n",
       "ame    770\n",
       "env    370\n",
       "sky    129\n",
       "ces     11\n",
       "sio      6\n",
       "fro      3\n",
       "Name: callsign, dtype: int64"
      ]
     },
     "execution_count": 19,
     "metadata": {},
     "output_type": "execute_result"
    }
   ],
   "source": [
    "df['callsign'].apply(lambda x: x[:3]).value_counts()"
   ]
  },
  {
   "cell_type": "markdown",
   "metadata": {},
   "source": [
    "# Test Code (delete later)"
   ]
  },
  {
   "cell_type": "code",
   "execution_count": 22,
   "metadata": {},
   "outputs": [],
   "source": [
    "string_1 = '1808 REDUCE SPEED TO 1 9 0'\n",
    "\n",
    "while (string_1 != re.sub(r'\\d+\\s+\\d+', change, string_1)):\n",
    "    string_1 = re.sub(r'\\d+\\s+\\d+', change, string_1)\n",
    "\n",
    "# regex expression for one digit followed by one space followed by one digit"
   ]
  },
  {
   "cell_type": "code",
   "execution_count": 17,
   "metadata": {},
   "outputs": [
    {
     "name": "stdout",
     "output_type": "stream",
     "text": [
      "2\n"
     ]
    }
   ],
   "source": [
    "#   iterative_levenshtein(s, t) -> ldist\n",
    "#   ldist is the Levenshtein distance between the strings \n",
    "#   s and t.\n",
    "#   For all i and j, dist[i,j] will contain the Levenshtein \n",
    "#   distance between the first i characters of s and the \n",
    "#   first j characters of t\n",
    "\n",
    "def iterative_levenshtein(s, t):\n",
    "    \n",
    "\n",
    "    rows = len(s)+1\n",
    "    cols = len(t)+1\n",
    "    dist = [[0 for x in range(cols)] for x in range(rows)]\n",
    "\n",
    "    # source prefixes can be transformed into empty strings \n",
    "    # by deletions:\n",
    "    for i in range(1, rows):\n",
    "        dist[i][0] = i\n",
    "\n",
    "    # target prefixes can be created from an empty source string\n",
    "    # by inserting the characters\n",
    "    for i in range(1, cols):\n",
    "        dist[0][i] = i\n",
    "        \n",
    "    for col in range(1, cols):\n",
    "        for row in range(1, rows):\n",
    "            if s[row-1] == t[col-1]:\n",
    "                cost = 0\n",
    "            else:\n",
    "                cost = 1\n",
    "            dist[row][col] = min(dist[row-1][col] + 1,      # deletion\n",
    "                                 dist[row][col-1] + 1,      # insertion\n",
    "                                 dist[row-1][col-1] + cost) # substitution    \n",
    "\n",
    "    return dist[row][col]"
   ]
  },
  {
   "cell_type": "code",
   "execution_count": 19,
   "metadata": {},
   "outputs": [
    {
     "data": {
      "text/plain": [
       "4"
      ]
     },
     "execution_count": 19,
     "metadata": {},
     "output_type": "execute_result"
    }
   ],
   "source": [
    "iterative_levenshtein('test', '2')"
   ]
  },
  {
   "cell_type": "code",
   "execution_count": 53,
   "metadata": {},
   "outputs": [
    {
     "data": {
      "text/plain": [
       "7000"
      ]
     },
     "execution_count": 53,
     "metadata": {},
     "output_type": "execute_result"
    }
   ],
   "source": [
    "find_alt(df['Transcriptions'].iloc[4])"
   ]
  },
  {
   "cell_type": "code",
   "execution_count": 44,
   "metadata": {},
   "outputs": [
    {
     "name": "stdout",
     "output_type": "stream",
     "text": [
      "AMERICAN 1583 MAINTAIN 180 KNOTS TO ZALPO CONTACT TOWER NOW 127.5 HAVE AH GOOD DAY\n",
      "['american', '1583', 'maintain', '180', 'knots', 'to', 'zalpo', 'contact', 'tower', 'now', '127.5', 'have', 'ah', 'good', 'day']\n",
      "[1]\n",
      "[2]\n",
      "None\n"
     ]
    }
   ],
   "source": [
    "command = df['Transcriptions'].iloc[2]\n",
    "print(find_alt(command))"
   ]
  },
  {
   "cell_type": "code",
   "execution_count": 75,
   "metadata": {},
   "outputs": [
    {
     "data": {
      "text/html": [
       "<div>\n",
       "<style scoped>\n",
       "    .dataframe tbody tr th:only-of-type {\n",
       "        vertical-align: middle;\n",
       "    }\n",
       "\n",
       "    .dataframe tbody tr th {\n",
       "        vertical-align: top;\n",
       "    }\n",
       "\n",
       "    .dataframe thead th {\n",
       "        text-align: right;\n",
       "    }\n",
       "</style>\n",
       "<table border=\"1\" class=\"dataframe\">\n",
       "  <thead>\n",
       "    <tr style=\"text-align: right;\">\n",
       "      <th></th>\n",
       "      <th>Time</th>\n",
       "      <th>Transcriptions</th>\n",
       "      <th>Length</th>\n",
       "      <th>altitude</th>\n",
       "      <th>turn</th>\n",
       "    </tr>\n",
       "  </thead>\n",
       "  <tbody>\n",
       "    <tr>\n",
       "      <th>51</th>\n",
       "      <td>21-11-02 07:14:45.389</td>\n",
       "      <td>DELTA 1169 APPROACH GOOD MORNING 35 RIGHT</td>\n",
       "      <td>41</td>\n",
       "      <td>True</td>\n",
       "      <td>True</td>\n",
       "    </tr>\n",
       "    <tr>\n",
       "      <th>52</th>\n",
       "      <td>21-11-02 07:14:45.698</td>\n",
       "      <td>AMERICAN 1583 AH MILES FROM 3 MAINTAIN 3000 UN...</td>\n",
       "      <td>110</td>\n",
       "      <td>False</td>\n",
       "      <td>False</td>\n",
       "    </tr>\n",
       "    <tr>\n",
       "      <th>53</th>\n",
       "      <td>21-11-02 07:14:45.866</td>\n",
       "      <td>AMERICAN 1583 MAINTAIN 180 KNOTS TO ZALPO CONT...</td>\n",
       "      <td>82</td>\n",
       "      <td>False</td>\n",
       "      <td>False</td>\n",
       "    </tr>\n",
       "    <tr>\n",
       "      <th>54</th>\n",
       "      <td>21-11-02 07:14:46.199</td>\n",
       "      <td>AMERICAN 14 03 DESCEND AND MAINTAIN 7000</td>\n",
       "      <td>40</td>\n",
       "      <td>False</td>\n",
       "      <td>False</td>\n",
       "    </tr>\n",
       "    <tr>\n",
       "      <th>55</th>\n",
       "      <td>21-11-02 07:14:46.364</td>\n",
       "      <td>DELTA 1169 MAINTAIN 7000</td>\n",
       "      <td>24</td>\n",
       "      <td>False</td>\n",
       "      <td>False</td>\n",
       "    </tr>\n",
       "    <tr>\n",
       "      <th>56</th>\n",
       "      <td>21-11-02 07:14:46.599</td>\n",
       "      <td>CITATION 7MM HEADING 330 AND INTERCEPT THE LOC...</td>\n",
       "      <td>52</td>\n",
       "      <td>True</td>\n",
       "      <td>True</td>\n",
       "    </tr>\n",
       "    <tr>\n",
       "      <th>57</th>\n",
       "      <td>21-11-02 07:14:46.759</td>\n",
       "      <td>AMERICAN 14 03 REDUCE SPEED TO 1 9 0 HEADING 260</td>\n",
       "      <td>48</td>\n",
       "      <td>True</td>\n",
       "      <td>True</td>\n",
       "    </tr>\n",
       "    <tr>\n",
       "      <th>58</th>\n",
       "      <td>21-11-02 07:14:47.112</td>\n",
       "      <td>ENVOY 3746 APPROACH GOOD MORNING DESCEND VIA 7...</td>\n",
       "      <td>167</td>\n",
       "      <td>True</td>\n",
       "      <td>True</td>\n",
       "    </tr>\n",
       "    <tr>\n",
       "      <th>59</th>\n",
       "      <td>21-11-02 07:14:47.268</td>\n",
       "      <td>REGIONAL APPROACH AMERICAN 1374 OUT OF 6300 DE...</td>\n",
       "      <td>82</td>\n",
       "      <td>False</td>\n",
       "      <td>False</td>\n",
       "    </tr>\n",
       "    <tr>\n",
       "      <th>60</th>\n",
       "      <td>21-11-02 07:14:47.547</td>\n",
       "      <td>AMERICAN 1374 REGIONAL APPROACH GOOD MORNING 3...</td>\n",
       "      <td>52</td>\n",
       "      <td>True</td>\n",
       "      <td>True</td>\n",
       "    </tr>\n",
       "    <tr>\n",
       "      <th>62</th>\n",
       "      <td>21-11-02 07:14:48.012</td>\n",
       "      <td>APPROACH AMERICAN 356 AH 12000 FOR 6000</td>\n",
       "      <td>39</td>\n",
       "      <td>False</td>\n",
       "      <td>False</td>\n",
       "    </tr>\n",
       "    <tr>\n",
       "      <th>63</th>\n",
       "      <td>21-11-02 07:14:48.168</td>\n",
       "      <td>AMERICAN 356 REGIONAL APPROACH GOOD MORNING RU...</td>\n",
       "      <td>54</td>\n",
       "      <td>False</td>\n",
       "      <td>False</td>\n",
       "    </tr>\n",
       "    <tr>\n",
       "      <th>64</th>\n",
       "      <td>21-11-02 07:14:48.380</td>\n",
       "      <td>AMERICAN 1374 CLEARED DIRECT 5</td>\n",
       "      <td>30</td>\n",
       "      <td>False</td>\n",
       "      <td>False</td>\n",
       "    </tr>\n",
       "    <tr>\n",
       "      <th>66</th>\n",
       "      <td>21-11-02 07:14:48.861</td>\n",
       "      <td>ENVOY 3672 TURN RIGHT HEADING 270 DESCEND AND ...</td>\n",
       "      <td>59</td>\n",
       "      <td>True</td>\n",
       "      <td>True</td>\n",
       "    </tr>\n",
       "    <tr>\n",
       "      <th>67</th>\n",
       "      <td>21-11-02 07:14:49.039</td>\n",
       "      <td>RIGHT 23000 ENVOY 36 0</td>\n",
       "      <td>22</td>\n",
       "      <td>True</td>\n",
       "      <td>True</td>\n",
       "    </tr>\n",
       "    <tr>\n",
       "      <th>68</th>\n",
       "      <td>21-11-02 07:14:49.314</td>\n",
       "      <td>SIOUX 53 ZEROS OUT OF 7 DESCENDING FOR THE APP...</td>\n",
       "      <td>61</td>\n",
       "      <td>False</td>\n",
       "      <td>False</td>\n",
       "    </tr>\n",
       "    <tr>\n",
       "      <th>70</th>\n",
       "      <td>21-11-02 07:14:49.716</td>\n",
       "      <td>AMERICAN 1374 TRAFFIC 1 OCLOCK 3 MILES SOUTH B...</td>\n",
       "      <td>58</td>\n",
       "      <td>False</td>\n",
       "      <td>False</td>\n",
       "    </tr>\n",
       "    <tr>\n",
       "      <th>72</th>\n",
       "      <td>21-11-02 07:14:50.093</td>\n",
       "      <td>AMERICAN 1374 TRAFFIC NO FACTOR DESCEND MAINTA...</td>\n",
       "      <td>53</td>\n",
       "      <td>False</td>\n",
       "      <td>False</td>\n",
       "    </tr>\n",
       "    <tr>\n",
       "      <th>73</th>\n",
       "      <td>21-11-02 07:14:50.246</td>\n",
       "      <td>AMERICAN 356 DESCEND AND MAINTAIN 4000 DESCEND...</td>\n",
       "      <td>73</td>\n",
       "      <td>False</td>\n",
       "      <td>False</td>\n",
       "    </tr>\n",
       "    <tr>\n",
       "      <th>74</th>\n",
       "      <td>21-11-02 07:14:50.449</td>\n",
       "      <td>AMERICAN 1261 OUT OF AH LEAVING 12000 FOR 8000</td>\n",
       "      <td>46</td>\n",
       "      <td>False</td>\n",
       "      <td>False</td>\n",
       "    </tr>\n",
       "    <tr>\n",
       "      <th>75</th>\n",
       "      <td>21-11-02 07:14:50.613</td>\n",
       "      <td>AMERICAN 1261 APPROACH RUNWAY 35 CENTER 35 LEF...</td>\n",
       "      <td>61</td>\n",
       "      <td>True</td>\n",
       "      <td>True</td>\n",
       "    </tr>\n",
       "    <tr>\n",
       "      <th>76</th>\n",
       "      <td>21-11-02 07:14:50.888</td>\n",
       "      <td>ENVOY 3650 TURN RIGHT HEADING 340 JOIN FINAL</td>\n",
       "      <td>44</td>\n",
       "      <td>True</td>\n",
       "      <td>True</td>\n",
       "    </tr>\n",
       "    <tr>\n",
       "      <th>77</th>\n",
       "      <td>21-11-02 07:14:51.040</td>\n",
       "      <td>340 JOIN THE FINAL FOR 6206</td>\n",
       "      <td>27</td>\n",
       "      <td>False</td>\n",
       "      <td>False</td>\n",
       "    </tr>\n",
       "    <tr>\n",
       "      <th>78</th>\n",
       "      <td>21-11-02 07:14:51.168</td>\n",
       "      <td>AMERICAN 12 CLEARED DIRECT CALLING</td>\n",
       "      <td>34</td>\n",
       "      <td>False</td>\n",
       "      <td>False</td>\n",
       "    </tr>\n",
       "    <tr>\n",
       "      <th>79</th>\n",
       "      <td>21-11-02 07:14:51.290</td>\n",
       "      <td>LEFT DOWN WIND AMERICAN 370</td>\n",
       "      <td>27</td>\n",
       "      <td>True</td>\n",
       "      <td>True</td>\n",
       "    </tr>\n",
       "    <tr>\n",
       "      <th>80</th>\n",
       "      <td>21-11-02 07:14:51.435</td>\n",
       "      <td>ENVOY 36 022 MILES FROM CHARLIE MAINTAIN 3000 ...</td>\n",
       "      <td>95</td>\n",
       "      <td>False</td>\n",
       "      <td>False</td>\n",
       "    </tr>\n",
       "    <tr>\n",
       "      <th>81</th>\n",
       "      <td>21-11-02 07:14:51.730</td>\n",
       "      <td>THANK YOU 3000 TILL ESTABLISHED ON THE APPROAC...</td>\n",
       "      <td>55</td>\n",
       "      <td>False</td>\n",
       "      <td>False</td>\n",
       "    </tr>\n",
       "    <tr>\n",
       "      <th>82</th>\n",
       "      <td>21-11-02 07:14:51.886</td>\n",
       "      <td>AMERICAN 1374 TURN 10 DEGREES LEFT</td>\n",
       "      <td>34</td>\n",
       "      <td>True</td>\n",
       "      <td>True</td>\n",
       "    </tr>\n",
       "    <tr>\n",
       "      <th>83</th>\n",
       "      <td>21-11-02 07:14:52.131</td>\n",
       "      <td>MIDWEST AMERICAN 65 AMERICAN 1261 DESCEND AND ...</td>\n",
       "      <td>78</td>\n",
       "      <td>False</td>\n",
       "      <td>False</td>\n",
       "    </tr>\n",
       "    <tr>\n",
       "      <th>84</th>\n",
       "      <td>21-11-02 07:14:52.291</td>\n",
       "      <td>ENVOY 36 02 CONTACT AH CITY TOWER 124.15</td>\n",
       "      <td>40</td>\n",
       "      <td>False</td>\n",
       "      <td>False</td>\n",
       "    </tr>\n",
       "    <tr>\n",
       "      <th>...</th>\n",
       "      <td>...</td>\n",
       "      <td>...</td>\n",
       "      <td>...</td>\n",
       "      <td>...</td>\n",
       "      <td>...</td>\n",
       "    </tr>\n",
       "    <tr>\n",
       "      <th>2507</th>\n",
       "      <td>21-11-02 12:56:48.055</td>\n",
       "      <td>02 CONTACT APPROACH</td>\n",
       "      <td>19</td>\n",
       "      <td>False</td>\n",
       "      <td>False</td>\n",
       "    </tr>\n",
       "    <tr>\n",
       "      <th>2509</th>\n",
       "      <td>21-11-02 12:57:36.427</td>\n",
       "      <td>SKYWEST 5957 KNOTS OR GREATER THE BB CONTACT A...</td>\n",
       "      <td>87</td>\n",
       "      <td>False</td>\n",
       "      <td>False</td>\n",
       "    </tr>\n",
       "    <tr>\n",
       "      <th>2511</th>\n",
       "      <td>21-11-02 12:58:21.572</td>\n",
       "      <td>054 AH 841 IS AH MILE FROM AH AND MAINTAIN 300...</td>\n",
       "      <td>115</td>\n",
       "      <td>False</td>\n",
       "      <td>False</td>\n",
       "    </tr>\n",
       "    <tr>\n",
       "      <th>2512</th>\n",
       "      <td>61D | TranscriptionService.swift:302</td>\n",
       "      <td>3000 TILL ESTABLISHED CLEARED LOCALIZER</td>\n",
       "      <td>39</td>\n",
       "      <td>False</td>\n",
       "      <td>False</td>\n",
       "    </tr>\n",
       "    <tr>\n",
       "      <th>2514</th>\n",
       "      <td>61D | TranscriptionService.swift:302</td>\n",
       "      <td>DELTA 4041 CAUTION WAKE TURBULENCE YOU AH 5 AN...</td>\n",
       "      <td>103</td>\n",
       "      <td>False</td>\n",
       "      <td>False</td>\n",
       "    </tr>\n",
       "    <tr>\n",
       "      <th>2516</th>\n",
       "      <td>61D | TranscriptionService.swift:302</td>\n",
       "      <td>ENVOY 3429 TURN LEFT 10 DEGREES LEFT DESCEND A...</td>\n",
       "      <td>62</td>\n",
       "      <td>True</td>\n",
       "      <td>True</td>\n",
       "    </tr>\n",
       "    <tr>\n",
       "      <th>2517</th>\n",
       "      <td>21-11-02 12:59:13.410</td>\n",
       "      <td>IS LEFT DOWN TO 3000 ENVOY 44</td>\n",
       "      <td>29</td>\n",
       "      <td>True</td>\n",
       "      <td>True</td>\n",
       "    </tr>\n",
       "    <tr>\n",
       "      <th>2518</th>\n",
       "      <td>61D | TranscriptionService.swift:302</td>\n",
       "      <td>JET SPEED CORRECTION 312</td>\n",
       "      <td>24</td>\n",
       "      <td>False</td>\n",
       "      <td>False</td>\n",
       "    </tr>\n",
       "    <tr>\n",
       "      <th>2519</th>\n",
       "      <td>21-11-02 12:59:15.599</td>\n",
       "      <td>AMERICAN 2312 THANK YOU PASSING AH MAINTAIN 10...</td>\n",
       "      <td>51</td>\n",
       "      <td>False</td>\n",
       "      <td>False</td>\n",
       "    </tr>\n",
       "    <tr>\n",
       "      <th>2521</th>\n",
       "      <td>21-11-02 12:59:20.270</td>\n",
       "      <td>AMERICAN 23 5 MAINTAIN 160 KNOTS BB</td>\n",
       "      <td>35</td>\n",
       "      <td>False</td>\n",
       "      <td>False</td>\n",
       "    </tr>\n",
       "    <tr>\n",
       "      <th>2523</th>\n",
       "      <td>21-11-02 12:59:47.227</td>\n",
       "      <td>ENVOY 4429 TURN LEFT HEADING 090</td>\n",
       "      <td>32</td>\n",
       "      <td>True</td>\n",
       "      <td>True</td>\n",
       "    </tr>\n",
       "    <tr>\n",
       "      <th>2524</th>\n",
       "      <td>61D | TranscriptionService.swift:302</td>\n",
       "      <td>LEFT 090 ENVOY 46</td>\n",
       "      <td>17</td>\n",
       "      <td>True</td>\n",
       "      <td>True</td>\n",
       "    </tr>\n",
       "    <tr>\n",
       "      <th>2525</th>\n",
       "      <td>21-11-02 12:59:50.313</td>\n",
       "      <td>DELTA 1441 MAINTAIN 160PB</td>\n",
       "      <td>25</td>\n",
       "      <td>False</td>\n",
       "      <td>False</td>\n",
       "    </tr>\n",
       "    <tr>\n",
       "      <th>2526</th>\n",
       "      <td>61D | TranscriptionService.swift:302</td>\n",
       "      <td>162 MAINTAIN FLIGHT</td>\n",
       "      <td>19</td>\n",
       "      <td>False</td>\n",
       "      <td>False</td>\n",
       "    </tr>\n",
       "    <tr>\n",
       "      <th>2527</th>\n",
       "      <td>21-11-02 12:59:56.788</td>\n",
       "      <td>AND ENVOY 3447 HEAVY TURN RIGHT AH REDUCE SPEE...</td>\n",
       "      <td>80</td>\n",
       "      <td>True</td>\n",
       "      <td>True</td>\n",
       "    </tr>\n",
       "    <tr>\n",
       "      <th>2529</th>\n",
       "      <td>21-11-02 12:59:59.443</td>\n",
       "      <td>AMERICAN 2312 AH</td>\n",
       "      <td>16</td>\n",
       "      <td>False</td>\n",
       "      <td>False</td>\n",
       "    </tr>\n",
       "    <tr>\n",
       "      <th>2530</th>\n",
       "      <td>61D | TranscriptionService.swift:302</td>\n",
       "      <td>CONTACT 32 124.608</td>\n",
       "      <td>18</td>\n",
       "      <td>False</td>\n",
       "      <td>False</td>\n",
       "    </tr>\n",
       "    <tr>\n",
       "      <th>2531</th>\n",
       "      <td>21-11-02 13:00:00.356</td>\n",
       "      <td>ENVOY 3429 REDUCE SPEED TO 1 9 0 TURN LEFT HEA...</td>\n",
       "      <td>69</td>\n",
       "      <td>True</td>\n",
       "      <td>True</td>\n",
       "    </tr>\n",
       "    <tr>\n",
       "      <th>2532</th>\n",
       "      <td>61D | TranscriptionService.swift:302</td>\n",
       "      <td>SLOW TO 1 90 KNOTS LEFT 020 INTERCEPT AH</td>\n",
       "      <td>40</td>\n",
       "      <td>True</td>\n",
       "      <td>True</td>\n",
       "    </tr>\n",
       "    <tr>\n",
       "      <th>2534</th>\n",
       "      <td>61D | TranscriptionService.swift:302</td>\n",
       "      <td>ENVOY 3429 2 MILES FROM OPTI MAINTAIN 3000 UNT...</td>\n",
       "      <td>111</td>\n",
       "      <td>False</td>\n",
       "      <td>False</td>\n",
       "    </tr>\n",
       "    <tr>\n",
       "      <th>2535</th>\n",
       "      <td>21-11-02 13:00:26.457</td>\n",
       "      <td>2000 TILL ESTABLISHED CLEARED LOCALIZER</td>\n",
       "      <td>39</td>\n",
       "      <td>False</td>\n",
       "      <td>False</td>\n",
       "    </tr>\n",
       "    <tr>\n",
       "      <th>2536</th>\n",
       "      <td>61D | TranscriptionService.swift:302</td>\n",
       "      <td>ATTENTION ALL AIRCRAFT INFORMATION WHISKEY NOW...</td>\n",
       "      <td>54</td>\n",
       "      <td>False</td>\n",
       "      <td>False</td>\n",
       "    </tr>\n",
       "    <tr>\n",
       "      <th>2537</th>\n",
       "      <td>21-11-02 13:00:27.005</td>\n",
       "      <td>AH 10360 AT 8 VISIBILITY 1 MILE AND RAIN AND MIST</td>\n",
       "      <td>49</td>\n",
       "      <td>False</td>\n",
       "      <td>False</td>\n",
       "    </tr>\n",
       "    <tr>\n",
       "      <th>2538</th>\n",
       "      <td>61D | TranscriptionService.swift:302</td>\n",
       "      <td>500 SCATTERED CEILING 1500 BROKEN 2600 OVERCAS...</td>\n",
       "      <td>62</td>\n",
       "      <td>False</td>\n",
       "      <td>False</td>\n",
       "    </tr>\n",
       "    <tr>\n",
       "      <th>2539</th>\n",
       "      <td>21-11-02 13:00:42.448</td>\n",
       "      <td>SKYWEST 4841 CONTACT YOU HAVE ECHO NOW 124.15 ...</td>\n",
       "      <td>55</td>\n",
       "      <td>False</td>\n",
       "      <td>False</td>\n",
       "    </tr>\n",
       "    <tr>\n",
       "      <th>2540</th>\n",
       "      <td>61D | TranscriptionService.swift:302</td>\n",
       "      <td>124.15 CESSNA FLY 41 GOOD DAY</td>\n",
       "      <td>29</td>\n",
       "      <td>False</td>\n",
       "      <td>False</td>\n",
       "    </tr>\n",
       "    <tr>\n",
       "      <th>2541</th>\n",
       "      <td>21-11-02 13:00:51.066</td>\n",
       "      <td>ENVOY 3429 MAINTAIN AH 170 KNOTS FOR 0B</td>\n",
       "      <td>39</td>\n",
       "      <td>False</td>\n",
       "      <td>False</td>\n",
       "    </tr>\n",
       "    <tr>\n",
       "      <th>2542</th>\n",
       "      <td>61D | TranscriptionService.swift:302</td>\n",
       "      <td>170 KNOTS INBOUND ENVOY 4014</td>\n",
       "      <td>28</td>\n",
       "      <td>False</td>\n",
       "      <td>False</td>\n",
       "    </tr>\n",
       "    <tr>\n",
       "      <th>2543</th>\n",
       "      <td>21-11-02 13:01:25.609</td>\n",
       "      <td>ENVOY 3429 TRAFFIC IS IN THE BACK TO THE LEFT ...</td>\n",
       "      <td>101</td>\n",
       "      <td>True</td>\n",
       "      <td>True</td>\n",
       "    </tr>\n",
       "    <tr>\n",
       "      <th>2544</th>\n",
       "      <td>61D | TranscriptionService.swift:302</td>\n",
       "      <td>ENVOY 3429 THANK YOU CONTACT YOU HAVE TOWER 12...</td>\n",
       "      <td>50</td>\n",
       "      <td>False</td>\n",
       "      <td>False</td>\n",
       "    </tr>\n",
       "  </tbody>\n",
       "</table>\n",
       "<p>2114 rows × 5 columns</p>\n",
       "</div>"
      ],
      "text/plain": [
       "                                      Time  \\\n",
       "51                   21-11-02 07:14:45.389   \n",
       "52                   21-11-02 07:14:45.698   \n",
       "53                   21-11-02 07:14:45.866   \n",
       "54                   21-11-02 07:14:46.199   \n",
       "55                   21-11-02 07:14:46.364   \n",
       "...                                    ...   \n",
       "2540  61D | TranscriptionService.swift:302   \n",
       "2541                 21-11-02 13:00:51.066   \n",
       "2542  61D | TranscriptionService.swift:302   \n",
       "2543                 21-11-02 13:01:25.609   \n",
       "2544  61D | TranscriptionService.swift:302   \n",
       "\n",
       "                                         Transcriptions  Length  altitude  \\\n",
       "51            DELTA 1169 APPROACH GOOD MORNING 35 RIGHT      41      True   \n",
       "52    AMERICAN 1583 AH MILES FROM 3 MAINTAIN 3000 UN...     110     False   \n",
       "53    AMERICAN 1583 MAINTAIN 180 KNOTS TO ZALPO CONT...      82     False   \n",
       "54             AMERICAN 14 03 DESCEND AND MAINTAIN 7000      40     False   \n",
       "55                             DELTA 1169 MAINTAIN 7000      24     False   \n",
       "...                                                 ...     ...       ...   \n",
       "2540                      124.15 CESSNA FLY 41 GOOD DAY      29     False   \n",
       "2541            ENVOY 3429 MAINTAIN AH 170 KNOTS FOR 0B      39     False   \n",
       "2542                       170 KNOTS INBOUND ENVOY 4014      28     False   \n",
       "2543  ENVOY 3429 TRAFFIC IS IN THE BACK TO THE LEFT ...     101      True   \n",
       "2544  ENVOY 3429 THANK YOU CONTACT YOU HAVE TOWER 12...      50     False   \n",
       "\n",
       "       turn  \n",
       "51     True  \n",
       "52    False  \n",
       "53    False  \n",
       "54    False  \n",
       "55    False  \n",
       "...     ...  \n",
       "2540  False  \n",
       "2541  False  \n",
       "2542  False  \n",
       "2543   True  \n",
       "2544  False  \n",
       "\n",
       "[2114 rows x 5 columns]"
      ]
     },
     "execution_count": 75,
     "metadata": {},
     "output_type": "execute_result"
    }
   ],
   "source": [
    "df"
   ]
  }
 ],
 "metadata": {
  "interpreter": {
   "hash": "dbdb92cc94d156df02696cf4f465e2be72524eb5489a7325f09a0583f9244bbe"
  },
  "kernelspec": {
   "display_name": "Python 3.7.4 64-bit",
   "name": "python3"
  },
  "language_info": {
   "codemirror_mode": {
    "name": "ipython",
    "version": 3
   },
   "file_extension": ".py",
   "mimetype": "text/x-python",
   "name": "python",
   "nbconvert_exporter": "python",
   "pygments_lexer": "ipython3",
   "version": "3.8.10"
  },
  "orig_nbformat": 4
 },
 "nbformat": 4,
 "nbformat_minor": 2
}
