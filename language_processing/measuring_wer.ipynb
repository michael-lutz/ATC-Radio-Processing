{
 "cells": [
  {
   "cell_type": "markdown",
   "metadata": {},
   "source": [
    "# Overview"
   ]
  },
  {
   "cell_type": "markdown",
   "metadata": {},
   "source": [
    "This section calculates the Word Errror Rate on an expert annotated 2-hour data set provided by the FAA from 1994. This data set is in sphere format and also includes expert ground truth annotations for ASR applications.\n",
    "\n",
    "**Data set link:** https://catalog.ldc.upenn.edu/LDC94S14A\n",
    "\n",
    "**For more details about the data set:**\n",
    "\n",
    "\"The audio files are 8 KHz, 16-bit linear sampled data, representing continuous monitoring, without squelch or silence elimination, of a single FAA frequency for one to two hours. There are also files which indicate the amplitude of the received AM carrier signal at 10 msec. intervals.\n",
    "\n",
    "Full transcripts, including the start and end times of each transmission, are provided for each audio file. Each flight is identified by its flight number.\n",
    "\n",
    "ATC0 consists of three subcorpora, one for each airport in which the transmissions were collected -- Dallas Fort Worth (DFW), Logan International (BOS) and Washington National (DCA). The complete set contains approximately 70 hours of controller and pilot transmissions collected via antennas and radio receivers which were located in the vicinity of the respective airports.\n",
    "\n",
    "Detailed information regarding the collection process and the equipment used can be found on in the files, \"atc.doc\" in the \"doc\" directories.\n",
    "\n",
    "The ATC0 Corpus was collected by Texas Instruments under contract to DARPA. It was produced by the National Institute of Standards and Technology for distribution by the Linguistic Data Consortium.\"\n",
    "\n",
    "**For more details on WER calculation**:\n",
    "\n",
    "WER = (substitutions + deletions + insertions) / ( of Ground Truth Words)"
   ]
  },
  {
   "cell_type": "code",
   "execution_count": 1,
   "metadata": {},
   "outputs": [
    {
     "name": "stderr",
     "output_type": "stream",
     "text": [
      "C:\\Users\\micha\\miniconda3\\lib\\site-packages\\numpy\\_distributor_init.py:30: UserWarning: loaded more than 1 DLL from .libs:\n",
      "C:\\Users\\micha\\miniconda3\\lib\\site-packages\\numpy\\.libs\\libopenblas.WCDJNK7YVMPZQ2ME2ZZHJJRJ3JIKNDB7.gfortran-win_amd64.dll\n",
      "C:\\Users\\micha\\miniconda3\\lib\\site-packages\\numpy\\.libs\\libopenblas.XWYDX2IKJW2NMTWSFYNGFUWKQU3LYTCZ.gfortran-win_amd64.dll\n",
      "  warnings.warn(\"loaded more than 1 DLL from .libs:\"\n"
     ]
    }
   ],
   "source": [
    "from jiwer import wer\n",
    "import pandas as pd\n",
    "import re\n"
   ]
  },
  {
   "cell_type": "markdown",
   "metadata": {},
   "source": [
    "# Loading different data sets"
   ]
  },
  {
   "cell_type": "markdown",
   "metadata": {},
   "source": [
    "TODO: do AWS and Google"
   ]
  },
  {
   "cell_type": "markdown",
   "metadata": {},
   "source": [
    "### Loading Appareo"
   ]
  },
  {
   "cell_type": "code",
   "execution_count": 317,
   "metadata": {},
   "outputs": [],
   "source": [
    "df_appareo = pd.read_json('../sample_transcriptions/LDC94214A_appareo.json')"
   ]
  },
  {
   "cell_type": "code",
   "execution_count": 318,
   "metadata": {},
   "outputs": [],
   "source": [
    "tran_appareo = ' '.join(df_appareo['utterance'])"
   ]
  },
  {
   "cell_type": "code",
   "execution_count": 319,
   "metadata": {},
   "outputs": [],
   "source": [
    "tran_appareo = re.sub(r'(\\d) (\\d)', r'\\1\\2', tran_appareo)\n",
    "tran_appareo = re.sub(r'(\\d) (\\d)', r'\\1\\2', tran_appareo)\n",
    "tran_appareo = re.sub(r'(\\d)(\\D)', r'\\1 \\2', tran_appareo)"
   ]
  },
  {
   "cell_type": "markdown",
   "metadata": {},
   "source": [
    "### Load Ground Truth"
   ]
  },
  {
   "cell_type": "code",
   "execution_count": 304,
   "metadata": {},
   "outputs": [],
   "source": [
    "# Import here\n",
    "string_gt = open(\"../sample_transcriptions/LDC94214A_groundtruth.txt\", \"r\").read()\n",
    "\n",
    "string_gt = string_gt.replace(\"\\n\", \" \") # Removes all new lines\n",
    "string_gt = ' '.join(re.findall(r'TEXT.*?TIMES', string_gt)) # Creates a string for all commands"
   ]
  },
  {
   "cell_type": "markdown",
   "metadata": {},
   "source": [
    "Note: we must apply an array of transformations to have the two data sets roughly compared on equal grounds.\n",
    "* Get rid of extra spaces\n",
    "* Get rid of the (QUOTE RE) and (QUOTE LL) and instead replace it with the closest word. Note: Appareo does you're as your\n",
    "* Get rid of TEXT, TIMES, and parentheses\n",
    "* Make sure phonetics are letters\n",
    "* Make sure letters are joined\n",
    "* Make sure spelled out numbers are actually numbers\n",
    "* Make sure numbers are joined\n",
    "* "
   ]
  },
  {
   "cell_type": "code",
   "execution_count": 305,
   "metadata": {},
   "outputs": [],
   "source": [
    "string_gt = re.sub(' +', ' ', string_gt)\n",
    "\n"
   ]
  },
  {
   "cell_type": "code",
   "execution_count": 306,
   "metadata": {},
   "outputs": [],
   "source": [
    "string_gt = re.sub(' \\(QUOTE LL\\)', 'LL', string_gt)\n",
    "string_gt = re.sub(' \\(QUOTE RE\\)', 'RE', string_gt)\n",
    "string_gt = re.sub('O \\(QUOTE CLOCK\\)', 'OCLOCK', string_gt)\n",
    "string_gt = re.sub(' \\(QUOTE S\\)', 'S', string_gt)\n",
    "string_gt = re.sub(' \\(QUOTE M\\)', 'M', string_gt)\n",
    "string_gt = re.sub(' \\(QUOTE T\\)', 'T', string_gt)"
   ]
  },
  {
   "cell_type": "code",
   "execution_count": 336,
   "metadata": {},
   "outputs": [],
   "source": [
    "string_gt = re.sub(' \\(TIMES', '', string_gt)\n",
    "string_gt = re.sub(' TEXT', '', string_gt)\n",
    "string_gt = re.sub('\\)', '', string_gt)\n",
    "string_gt = re.sub('\\(UNINTELLIGIBLE', '', string_gt)\n",
    "string_gt = re.sub(' POINT', '.', string_gt)"
   ]
  },
  {
   "cell_type": "code",
   "execution_count": 337,
   "metadata": {},
   "outputs": [],
   "source": [
    "def parse_int(textnum, numwords):\n",
    "    textnum = textnum.lower()  \n",
    "    # primary loop\n",
    "    current = result = 0\n",
    "    # loop while splitting to break into individual words\n",
    "    for word in textnum.replace(\"-\",\" \").split():\n",
    "        # if problem then fail-safe\n",
    "        if word not in numwords:\n",
    "          raise Exception(\"Illegal word: \" + word)\n",
    "\n",
    "        # use the index by the multiplier\n",
    "        scale, increment, is_complex, is_number = numwords[word]\n",
    "        current = current * scale + increment\n",
    "        \n",
    "        # if larger than 100 then push for a round 2\n",
    "        if scale > 100:\n",
    "            result += current\n",
    "            current = 0\n",
    "\n",
    "    # return the result plus the current\n",
    "    print('parse int: ' + str(result + current))\n",
    "    return result + current"
   ]
  },
  {
   "cell_type": "code",
   "execution_count": 338,
   "metadata": {},
   "outputs": [],
   "source": [
    "def replace_numbers(text):\n",
    "    numwords={}\n",
    "    # singles\n",
    "    units = [\n",
    "      \"zero\", \"one\", \"two\", \"three\", \"four\", \"five\", \"six\", \"seven\", \"eight\",\n",
    "      \"nine\", \"ten\", \"eleven\", \"twelve\", \"thirteen\", \"fourteen\", \"fifteen\",\n",
    "      \"sixteen\", \"seventeen\", \"eighteen\", \"nineteen\",\n",
    "    ]\n",
    "\n",
    "    # tens\n",
    "    tens = [\"\", \"\", \"twenty\", \"thirty\", \"forty\", \"fifty\", \"sixty\", \"seventy\", \"eighty\", \"ninety\"]\n",
    "\n",
    "    # larger scales\n",
    "    scales = [\"hundred\", \"thousand\", \"million\", \"billion\", \"trillion\"]\n",
    "\n",
    "    # divisors\n",
    "    numwords[\"and\"] = (1, 0, 0, 0) # NOTE: this is (scale, unit, is_complex, is_number)\n",
    "    numwords[\"a\"] = (1, 1, 0, 0)\n",
    "    numwords[\"\"] = (100, 0, 0, 0)\n",
    "\n",
    "    # perform our loops and start the swap\n",
    "    for idx, word in enumerate(units):    numwords[word] = (1, idx, 0, 1)\n",
    "    for idx, word in enumerate(tens):     numwords[word] = (1, idx * 10, 1, 1)\n",
    "    for idx, word in enumerate(scales):   numwords[word] = (10 ** (idx * 3 or 2), 0, 1,1 )\n",
    "\n",
    "\n",
    "    # primary loop\n",
    "    final_string = ''\n",
    "    skip_index = 0\n",
    "\n",
    "    for idx, word in enumerate(text.split()):\n",
    "        if skip_index > 0:\n",
    "            skip_index -= 1\n",
    "            continue\n",
    "\n",
    "        curr_idx = idx\n",
    "        curr_word = word\n",
    "        total_word = ''\n",
    "        complex_sum = 0\n",
    "        number_sum = 0\n",
    "\n",
    "        if word not in numwords:\n",
    "            final_string = final_string + \" \" + word # NOTE: this will cause an annoying space at the start, fix it\n",
    "            continue\n",
    "\n",
    "        while(curr_idx < len(text.split()) and text.split()[curr_idx] in numwords):\n",
    "            curr_word = text.split()[curr_idx]\n",
    "            total_word = total_word + \" \" + curr_word\n",
    "            complex_sum = complex_sum + numwords[curr_word][2]\n",
    "            number_sum = number_sum + numwords[curr_word][3]\n",
    "            curr_idx += 1\n",
    "            print(total_word)\n",
    "            \n",
    "\n",
    "        if number_sum > 0 and complex_sum > 0:\n",
    "            final_string = final_string + \" \" + str(parse_int(total_word, numwords))\n",
    "            skip_index = len(' '.join(total_word))\n",
    "        elif complex_sum == 0 and numwords[word][3] == 1: # accounts for callsigns\n",
    "            final_string = final_string + \" \" + str(parse_int(word, numwords))\n",
    "        else: # accounts for A and AND\n",
    "            final_string = final_string + \" \" + word\n",
    "            skip_index = len(' '.join(total_word))\n",
    "\n",
    "    return final_string\n"
   ]
  },
  {
   "cell_type": "code",
   "execution_count": 339,
   "metadata": {},
   "outputs": [
    {
     "data": {
      "text/plain": [
       "0"
      ]
     },
     "execution_count": 339,
     "metadata": {},
     "output_type": "execute_result"
    }
   ],
   "source": [
    "4000 % 1000"
   ]
  },
  {
   "cell_type": "markdown",
   "metadata": {},
   "source": [
    "NOTE: a bug exists in which \"one two twenty four\" wouldn't work - this is okay for current text however"
   ]
  },
  {
   "cell_type": "code",
   "execution_count": 311,
   "metadata": {},
   "outputs": [
    {
     "name": "stdout",
     "output_type": "stream",
     "text": [
      " thirty\n",
      " thirty seven\n",
      " thirty seven eighty\n",
      " thirty seven eighty eight\n",
      "parse int: 125\n"
     ]
    },
    {
     "data": {
      "text/plain": [
       "' 125'"
      ]
     },
     "execution_count": 311,
     "metadata": {},
     "output_type": "execute_result"
    }
   ],
   "source": [
    "replace_numbers('thirty seven eighty eight')"
   ]
  },
  {
   "cell_type": "code",
   "execution_count": 340,
   "metadata": {},
   "outputs": [],
   "source": [
    "# Other way of doing it\n",
    "rep_thousands = {\"one thousand\": 1000, \"two thousand\": 2000, \"three thousand\": 3000, \n",
    "                \"four thousand\": 4000, \"five thousand\": 5000, \"six thousand\": 6000, \n",
    "                \"seven thousand\": 7000, \"eight thousand\": 8000, \"nine thousand\": 9000, \n",
    "                \"ten thousand\": 10000, \"a thousand\": 1000, \"thousand\": 1000} \n",
    "                # NOTE: doesn't get any higher than 10000, also thousand gets in repl loop last so it accoutns for one edge case\n",
    "\n",
    "rep_hundreds = {\"one hundred\": 1, \"two hundred\": 2, \"three hundred\": 3, \"four hundred\": 4, \n",
    "                \"five hundred\": 5, \"six hundred\": 6, \"seven hundred\": 7, \"eight hundred\": 8,\n",
    "                \"nine hundred\": 9, \"a hundred\": 1, \"hundred\": 1}\n",
    "                # NOTE: this is a clever way to avoid conflict with modulo later down the line\n",
    "\n",
    "rep_decades = {\"twenty one\": 21, \"twenty two\": 22, \"twenty three\": 23, \"twenty four\": 24, \"twenty five\": 25, \"twenty six\": 26, \"twenty seven\": 27, \"twenty eight\": 28, \"twenty nine\": 29,\n",
    "               \"thirty one\": 31, \"thirty two\": 32, \"thirty three\": 33, \"thirty four\": 34, \"thirty five\": 35, \"thirty six\": 36, \"thirty seven\": 37, \"thirty eight\": 38, \"thirty nine\": 39,\n",
    "               \"forty one\": 41, \"forty two\": 42, \"forty three\": 43, \"forty four\": 44, \"forty five\": 45, \"forty six\": 46, \"forty seven\": 47, \"forty eight\": 48, \"forty nine\": 49,\n",
    "               \"fifty one\": 51, \"fifty two\": 52, \"fifty three\": 53, \"fifty four\": 54, \"fifty five\": 55, \"fifty six\": 56, \"fifty seven\": 57, \"fifty eight\": 58, \"fifty nine\": 59,\n",
    "               \"sixty one\": 61, \"sixty two\": 62, \"sixty three\": 63, \"sixty four\": 64, \"sixty five\": 65, \"sixty six\": 66, \"sixty seven\": 67, \"sixty eight\": 68, \"sixty nine\": 69,\n",
    "               \"seventy one\": 71, \"seventy two\": 72, \"seventy three\": 73, \"seventy four\": 74, \"seventy five\": 75, \"seventy six\": 76, \"seventy seven\": 77, \"seventy eight\": 78, \"seventy nine\": 79,\n",
    "               \"eighty one\": 81, \"eighty two\": 82, \"eighty three\": 83, \"eighty four\": 84, \"eighty five\": 85, \"eighty six\": 86, \"eighty seven\": 87, \"eighty eight\": 88, \"eighty nine\": 89,\n",
    "               \"ninety one\": 91, \"ninety two\": 92, \"ninety three\": 93, \"ninety four\": 94, \"eighty five\": 95, \"ninety six\": 96, \"ninety seven\": 97, \"ninety eight\": 98, \"ninety nine\": 99,\n",
    "               \"twenty\": 20, \"thirty\": 30, \"forty\": 40, \"fifty\": 50, \"sixty\": 60, \"seventy\": 70, \"eighty\": 80, \"ninety\": 90}\n",
    "\n",
    "rep_teens = {\"eleven\": 11, \"twelve\": 12, \"thirteen\": 13, \"fourteen\": 14, \"fifteen\": 15, \"sixteen\": 16, \"seventeen\": 17,\n",
    "                    \"eighteen\": 18, \"nineteen\": 19, \"zero\": 0, \"one\": 1, \"two\": 2, \"three\": 3, \"four\": 4, \"five\": 5,\n",
    "                    \"six\": 6, \"seven\": 7, \"eight\": 8, \"niner\": 9, \"nine\": 9, \"ten\": 10} "
   ]
  },
  {
   "cell_type": "code",
   "execution_count": 341,
   "metadata": {},
   "outputs": [],
   "source": [
    "test_string = string_gt"
   ]
  },
  {
   "cell_type": "code",
   "execution_count": 342,
   "metadata": {},
   "outputs": [],
   "source": [
    "for word, replacement in rep_thousands.items():\n",
    "    test_string = test_string.replace(word.upper(), str(replacement))\n",
    "\n",
    "for word, replacement in rep_hundreds.items():\n",
    "    test_string = test_string.replace(word.upper(), str(replacement))\n",
    "\n",
    "for word, replacement in rep_decades.items():\n",
    "    test_string = test_string.replace(word.upper(), str(replacement))\n",
    "\n",
    "for word, replacement in rep_teens.items():\n",
    "    test_string = test_string.replace(word.upper(), str(replacement))"
   ]
  },
  {
   "cell_type": "code",
   "execution_count": 278,
   "metadata": {},
   "outputs": [],
   "source": [
    "#test_string = re.sub('(?<=\\d) (?=\\d)', '', test_string)"
   ]
  },
  {
   "cell_type": "markdown",
   "metadata": {},
   "source": [
    "Potentially ignore"
   ]
  },
  {
   "cell_type": "code",
   "execution_count": 279,
   "metadata": {},
   "outputs": [],
   "source": [
    "test_string = re.sub(r' (\\d) (\\d) (\\d)', r' \\1\\2\\3', test_string)"
   ]
  },
  {
   "cell_type": "code",
   "execution_count": 280,
   "metadata": {},
   "outputs": [],
   "source": [
    "test_string = re.sub(r' (\\d) (\\d)(\\d) ', r' \\1\\2\\3 ', test_string)"
   ]
  },
  {
   "cell_type": "code",
   "execution_count": 281,
   "metadata": {},
   "outputs": [],
   "source": [
    "test_string = re.sub(r' (\\d) and (\\d)(\\d) ', r' \\1\\2\\3 ', test_string)"
   ]
  },
  {
   "cell_type": "code",
   "execution_count": 282,
   "metadata": {},
   "outputs": [],
   "source": [
    "test_string = re.sub(r' (\\d)(\\d) (\\d)(\\d) ', r' \\1\\2\\3\\4 ', test_string)"
   ]
  },
  {
   "cell_type": "code",
   "execution_count": 283,
   "metadata": {},
   "outputs": [],
   "source": [
    "test_string = re.sub(r' (\\d) (\\d) ', r' \\1\\2 ', test_string)\n",
    "test_string = re.sub(r' (\\d)(\\d)(\\d) (\\d)', r' \\1\\2\\3\\4 ', test_string)"
   ]
  },
  {
   "cell_type": "markdown",
   "metadata": {},
   "source": [
    "Other small replacements"
   ]
  },
  {
   "cell_type": "code",
   "execution_count": 343,
   "metadata": {},
   "outputs": [],
   "source": [
    "test_string = re.sub(r' I L S ', r' ILS ', test_string)\n",
    "test_string = re.sub(r' D M E ', r' DME ', test_string)\n",
    "test_string = re.sub(r' V F R ', r' VFR ', test_string)\n",
    "test_string = re.sub(r' I F R ', r' IFR ', test_string)\n",
    "test_string = re.sub(r' O K ', r' OK ', test_string)\n",
    "test_string = re.sub(r' U S ', r' US ', test_string)"
   ]
  },
  {
   "cell_type": "code",
   "execution_count": 344,
   "metadata": {},
   "outputs": [],
   "source": [
    "rep_phonetics = {\"alpha\": \"A\", \"bravo\": \"B\", \"charlie\": \"C\", \"Delta\": \"D\", \n",
    "                \"Echo\": \"E\", \"Foxtrot\": \"F\", \"Golf\": \"G\", \"Hotel\": \"H\",\n",
    "                \"India\": \"I\", \"Juliet\": \"J\", \"Kilo\": \"K\", \"Lima\": \"L\",\n",
    "                \"Mike\": \"M\", \"November\": \"N\", \"Oscar\": \"O\", \"Papa\": \"P\",\n",
    "                \"Quebec\": \"Q\", \"Romeo\": \"R\", \"Sierra\": \"S\", \"Tango\": \"T\",\n",
    "                \"Uniform\": \"U\", \"Victor\": \"V\", \"Whiskey\": \"W\", \"X-ray\": \"X\",\n",
    "                \"Yankee\": \"Y\", \"Zulu\": \"Z\"}"
   ]
  },
  {
   "cell_type": "code",
   "execution_count": 345,
   "metadata": {},
   "outputs": [],
   "source": [
    "for word, replacement in rep_phonetics.items():\n",
    "    test_string = test_string.replace(word.upper(), replacement)"
   ]
  },
  {
   "cell_type": "code",
   "execution_count": 346,
   "metadata": {},
   "outputs": [],
   "source": [
    "test_string = re.sub(r'(\\d) (\\d)', r'\\1\\2', test_string)\n",
    "test_string = re.sub(r'(\\d) (\\d)', r'\\1\\2', test_string)\n",
    "\n",
    "test_string = re.sub(r'(\\d)(\\D)', r'\\1 \\2', test_string)\n",
    "\n",
    "test_string = re.sub(r' (\\D) (\\D) ', r'\\1\\2', test_string)\n",
    "test_string = re.sub(r' (\\D) (\\D) ', r'\\1\\2', test_string)\n",
    "\n"
   ]
  },
  {
   "cell_type": "code",
   "execution_count": 287,
   "metadata": {},
   "outputs": [],
   "source": [
    "test_string = re.sub(r'(\\d)(\\d) (\\D) ', r'\\1\\2 ', test_string)\n",
    "test_string = re.sub(r' (\\D) (\\D)', r' \\1\\2', test_string)"
   ]
  },
  {
   "cell_type": "code",
   "execution_count": 347,
   "metadata": {},
   "outputs": [
    {
     "data": {
      "text/plain": [
       "'TEXT 1000190  WELL GIVE YOU THAT ON THE SPEED AND WERE CLEARED FOR THE APPROACH AH NERA 3788  WELL HOLD SHORT OF 27  THANKS BIZEX 329  TURN LEFT HEADING 1  CORRECTION 090090329  ROGER THAT SIR US AIR 268  YOURE OVER L1 R CLEARED ILS DME APPROACH TO RUNWAY 27  TRAFFIC LANDING 22  LEFT WILL HOLD SHORT OF YOUR RUNWAY CLEARED THE ILS 27  US AIR 268  YES SIR 268  CONTACT THE TOWER 119  . 1  HAVE A GOOD DAY CESSNA 01  C VFR DESCENT MAINTAIN 3000300001  C BIZEX 329  TRAFFIC 1235  MILES LEAVING 30005  IS A MERLIN WERE LOOKING FOR THAT TRAFFIC 329  BIZEX 329  TURN RIGHT HEADING 130130  FOR 329  BIZEX 329  AH DESCEND VFR MAINTAIN 3000  OUT OF TURN TRAFFICS 1  OCLOCK 3  MILES AHEAD LEAVING 3000  AGAIN HES THE AH MERLIN AH WE GOT HIM IN SIGHT NOW SIR BIZEX 329  GOING DOWN TO 3000  EX 329  DESCENT YOUR DISCRETION AFTER LANDING 22  LEFT HOLD SHORT OF RUNWAY 27  FOLLOW THAT TRAFFIC AH ROGER THAT SIR AH BIZEX 329  NERA 3788  REDUCE AND MAINTAIN SPEED 170  TILL A LINDY AND CONTACT THE TOWER 119  . 1  OK WERE AT THE 170  NOW AND GOING TO THE TOWER 3788  SO LONG BIZEX 329  REDUCE AND MAINTAIN 1  AND 70  KNOTS TIL 5  DME CONTACT THE TOWER 119  . 1  SO LONG  191  THANKS FOR THE HELP TWIN CESSNA 01  C TURN RIGHT HEADING 090090  BOSTON APPROACH GULFSTREAM 221  C MS LEAVING 80004  FOR 6000  HEADING AH 113  GULFSTREAM 221 CMBOSTON APPROACH CONTROL ROGER DESCEND AND MAINTAIN 4000  OUT OF 8  FOR 4 CMN 2201  C TRAFFIC 1  TO 2  OCLOCK 4  MILES A SAAB 340  YOURE TO FOLLOW JUST LEAVING 3000  HAVE IN SIGHT CESSNA 01  C ADVISE TRAFFIC IN SIGHT LAST TRANSMISSION WAS BROKEN OK WE GOT HIM IN SIGHT N 2201  C FOLLOW THAT TRAFFIC TO RUNWAY 22  LEFT AFTER LANDING HOLD SHORT OF RUNWAY 27  DESCENT YOUR DISCRETION ALTHOUGH MAINTAIN 3000  UNTIL 10  DME AND THEN DESCENT YOUR DISCRETION THATS A ROGER THAT AND WELL HOLD SHORT FOR 01  C  BOSTON NERA 3725  CHECKING IN LEVEL 4000  HEADING OF 1603725  BOSTON GOOD AFTERNOON ROGER BOSTON APPROACH PRECISION 3571  PASSING 5  . 4  FOR 4000  PRECISION 3571  BOSTON APPROACH ROGER GULFSTREAM 1 CMTURN LEFT HEADING 090  AND DESCEND AND MAINTAIN 2000  LEFT TO 090  OUT OF 6  FOR 2 CMTHANKS NERA 3788  CONTACT THE TOWER 119  . 1  BIZEX 329  BOSTON TOWERS 119  . 1  CRUSADER 2201  C CONTACT THE TOWER 119  . 1191  GULFSTREAM 1 CMYOURE NUMBER 1  FOR RUNWAY 27  IF YOU HAVE IT IN SIGHT WE HAVE IT IN SIGHT GULFSTREAM 221 CMYOUR RUNWAY IS 27  CLEARED FOR THE VISUAL APPROACH OK CLEARED FOR THE VISUAL 27 CM 88  IS WITH YOU OUT OF 6  . 7  FOR 6000  K US AIR 1588  BOSTON APPROACH GOOD AFTERNOON DESCEND AND MAINTAIN 4000  ON DOWN TO 4000  US AIR 1588  BOSTON NORTHWEST 11786  . 9  FOR 5  NORTHWEST 1178  BOSTON APPROACH CONTROL ROGER NERA 3725  DESCEND AND MAINTAIN 3000  THEN REDUCE SPEED TO 170  DOWN TO 3  THEN 170  ON THE SPEED NERA 3725  BOSTON GOOD AFTERNOON SWISSAIR 126  HEAVY 10000  DESCENDING SWISSAIR 126  HEAVY BOSTON APPROACH GOOD AFTERNOON DESCEND AND MAINTAIN 4000  AND THEN REDUCE AND MAINTAIN SPEED 2104000  THEN 210  SWISSAIR 126  HEAVY  NORTHWEST 1178  TURN LEFT HEADING 360  LEFT 360   NERA 3725  TURN RIGHT HEADING 2006  FROM LINDY MAINTAIN 2000  UNTIL ESTABLISHED CLEARED ILS APPROACH RUNWAY 22  LEFT AFTER LANDING HOLD SHORT OF RUNWAY 273725  THATS RIGHT TO 2002000  TIL ESTABLISHED CLEARED THE ILS 22  LEFT PRECISION 3571  IS 5  FROM WAYNE CROSS WAYNE AT 3000  CLEARED ILS 22  LEFT HOLD SHORT OF RUNWAY 27  CROSS WAYNE AT 3000  CLEARED ILS APPROACH PRECISION 3571  THANKS NERA 3725  MAINTAIN SPEED 170  TIL LINDY CONTACT THE TOWER 119  . 11913725  AND 170  ON THE AIRSPEED GULFSTREAM 221 CMTRAFFIC LANDING RUNWAY 22  LEFT WILL HOLD SHORT OF YOUR RUNWAY CONTACT BOSTON TOWER 119  . 1 CMWILCO SWISSAIR 126  HEAVY TURN RIGHT HEADING 310  RIGHT 310  SWISSAIR 126  US AIR 1588  DESCEND AND MAINTAIN 30003000  US AIR 1588  NORTHWEST 1178  DESCEND AND MAINTAIN 300030001178  US AIR 1588  TURN RIGHT HEADING 180180  HEADING US AIR 1588  PRECISION 3571  MAINTAIN 1  AND 70  KNOTS OR GREATER TIL LINDY AND CONTACT THE TOWER 119  . 1170  AND 119  . 1  PRECISION 3571  US AIR 1588  REDUCE SPEED TO 170  AND ADVISE RUNWAY 27  IN SIGHT WE HAVE IT IN SIGHT AND AH BACK TO 170  ON THE SPEED NORTHWEST 1178  TURN LEFT HEADING 330  LEFT 3301178  US AIR 1588  YOUR RUNWAY IS 27  CLEARED FOR THE VISUAL APPROACH CLEARED FOR THE VISUAL 27  US AIR 1588  US AIR 884  IS WITH YOU AT 6000  GOOD AFTERNOON US AIR 884  BOSTON APPROACH GOOD AFTERNOON MAINTAIN 6000  LOWER IN 5  MILES FOR RUNWAY 27  OK SWISSAIR 126  HEAVY REDUCE SPEED TO 170  REDUCING 126  SWISSAIR 126  HEAVY TURN LEFT HEADING 250  AND INTERCEPT THE LOCALIZER 250  FOR THE LOCALIZER SWISSAIR 126  NORTHWEST 1178  TURN LEFT HEADING 300  AND INTERCEPT THE LOCALIZER 3  INTERCEPT THE LOCALIZER 1178  US AIR 1588  TRAFFIC LANDING 22  LEFT WILL HOLD SHORT OF YOUR RUNWAY CONTACT THE TOWER 119  . 1191  US AIR 1588  NORTHWEST 1178  YOURE 5  FROM (SHORT PAUSE RIPIT MAINTAIN 2000  UNTIL ESTABLISHED CLEARED ILS DME APPROACH RUNWAY 27  CLEARED ILS DME 27  NORTHWEST 11782000  TIL OVER RIPIT THANK YOU SIR AH AND THATS JUST 2000  TIL ESTABLISHED K TIL ESTABLISHED 1178  THANKS SWISSAIR 126  HEAVY YOURE 4  MILES FROM LOC WAYNE CROSS WAYNE 3000  FEET OR ABOVE CLEARED ILS RUNWAY 22  LEFT APPROACH AH ROGER WERE CLEARED FOR AN ILS AH 22  LEFT APPROACH SWISSAIR 1  AH 26  NORTHWEST 1178  MAINTAIN SPEED 170  TIL RIPIT AND CONTACT THE TOWER 119  . 1  OK 170  TO RIPIT AH 1911178  US AIR 884  DESCEND AND MAINTAIN 40004000  US AIR 884  FULLY ESTABLISHED SWISSAIR 126  SWISSAIR 126  HEAVY SAY AGAIN WE ARE FULLY ESTABLISHED 22  LEFT FULLY ESTABLISHED VERY GOOD SWISSAIR 126  HEAVY CONTACT BOSTON TOWER 119  . 1191  GOOD BY BOSTON APPROACH CLIPPER 536  WITH YOU AH OUT OF 91000  FOR 5000  CLIPPER 536  BOSTON ROGER US AIR US AIR 884  TURN LEFT HEADING 090  LEFT TURN 090  US AIR 884  US AIR 884  YOU ARE TURNING RIGHT DIRECT TO BOSTON THATS CORRECT SIR IM SORRY WE AH MEANT TO GIVE YOU A HEADING PRIOR TO THAT WE WAS WONDERING ABOUT THAT OK RIGHT YOU NORMALLY EXPECT A HEADING AH ONCE YOU GET BEFORE YOU GET TO THAT AH FIX YEAH WERE SUPPOSED TO AH THE THING IS NOW WERE GOING TO GET YOU A WAY OUT OF LINE FOR YOUR PROFILE AH IN YOUR TURN YOU CAN CONTINUE RIGHT AROUND THE LEFT TO AH 040  AND THEN WERE GOING TO HAVE TO BRING YOU ALL THE WAY BACK AROUND TO THE RIGHT OK ALL THE WAY BACK AROUND TO 040  US AIR 884  BOSTON BIZEX 458  PASSING 040458  ROGER SWISSAIR 126  HEAVY CONTACT THE TOWER 119  . 1  CLIPPER 536  TURN LEFT HEADING 360  AND DESCEND AND MAINTAIN 30003603000  CLIPPER 536  GOOD AFTERNOON APPROACH D 258  HERE VACATING AH 10  FOR 5  WITHKD258  ROGER US AIR 884  MAKE YOUR RIGHT TURN BACK TO HEADING 250  AND INTERCEPT THE LOCALIZER APOLOGIZE FOR THAT OK AH RIGHT TURN BACK AH 250  TO INTERCEPT THE LOCALIZER US AIR 884  THATS NO PROBLEM SIR CLIPPER 536  TURN RIGHT TO HEADING OF 030  AND DESCEND AND MAINTAIN 4000  OK YOU WANT US AH RIGHT TO 030  CLIPPER 536  AFFIRMATIVE OK 0304000  WELL  536  BIZEX 458  DESCEND AND MAINTAIN 3000  DOWN TO 3000  BIZEX 458  WHO WE LOOKING FOR AH A HEAVY JET ON A HALF A MILE FINAL AS A MATTER OF FACT JUST ADVISE THE RUNWAY IN SIGHT GOT IT ALL AND THE HEAVY IN SIGHT THANKS BIZEX 458  AFTER LANDING RUNWAY 22  LEFT HOLD SHORT OF RUNWAY 27  CAUTION TURBULENCE FROM THE HEAVY JET AH DESCENT YOU DISCRETION OK WELL PROBABLY KICK IT OUT ABOUT ANOTHER MILE OR 2  JUST GIVE A LITTLE MORE ROOM TO GET DOWN US AIR 884  YOURE 3  MILES FROM L1 R CROSS L1 R 3000  FEET OR ABOVE CLEARED ILS DME APPROACH TO RUNWAY 27  CLEARED FOR THE ILS DME TO AH 27  AH L1 R 3000  OR ABOVE US AIR 884  CLIPPER 536  TURN LEFT HEADING 290  AND INTERCEPT THE LOCALIZER 290  FOR THE LOCALIZER CLIPPER 536  D 258  DESCEND AND MAINTAIN 3000  CONTINUE DOWN TO 3000  FOR D 258  D 258  TURN LEFT HEADING 330  LEFT 33  OH FOR D 258  BIZEX 458  CONTACT THE TOWER 119  . 1191  AND AH WERE IN THE TURN NOW FOR THE BASE CLIPPER 536  REDUCE AND MAINTAIN SPEED 170  KNOTS TO RIPIT YOURE PRESENTLY 3  FROM L1 R CROSS L1 R 3000  FEET OR ABOVE CLEARED ILS DME APPROACH RUNWAY 27  OK CLEARED APPROACH AH 3000  TO L1 R AND AH 170  TO RIPIT CLIPPER AH 536  US AIR 884  YOURE SEQUENCED NUMBER 1  FOR 27  MAINTAIN 1  AND 70  KNOTS OR GREATER TO RIPIT TRAFFIC LANDING 22  LEFT WILL HOLD SHORT OF YOUR RUNWAY 170  OR GREATER TIL RIPIT US AIR 884  WELL DO IT US AIR 884  TOWERS 119  . 1  GOOD AFTERNOON SEE YOU NOW YOU ALL TAKE CARE SEE YOU NOW CLIPPER 536  AGAIN 170  TO RIPIT YOU CAN CONTACT THE TOWER 119  . 1  CLIPPER 536  D 258  TURN LEFT HEADING 300  YOURE 7  MILES FROM L1 R CROSS L1 R AT 3000  CLEARED ILS DME APPROACH TO RUNWAY 27  LEFT 33  AND INTERCEPT THE LOCALIZER AND CLEARED FOR THE ILS 27  FOR D 258  PRECISION 35665  . 5  PRECISION 3566  BOSTON APPROACH ROGER PRECISION 3521   1000  PRECISION 3521  BOSTON APPROACH ROGER JET LINK 3844  IS ON BOARD GOING TO 4000  WITH AH 010  ASSIGNED JET LINK 3844  GOOD AFTERNOON THANKS K JET LINK 3844  TURN LEFT HEADING 360  LEFT 360  JET LINK 3844  PRECISION 3566  TURN LEFT HEADING 090  VECTORS FOR YOUR SEQUENCE OK WERE DOING IT 3566  PRECISION 3521  PROCEED DIRECT BOSTON DESCEND AND MAINTAIN 3000  ADVISE RUNWAY 22  LEFT IN SIGHT DIRECT BOSTON DOWN TO 3000  AND WE HAVE 22  LEFT IN SIGHT FOR PRECISION 3521  PRECISION 3521  YOUR RUNWAY IS 22  LEFT AFTER LANDING HOLD SHORT OF RUNWAY 27  CLEARED FOR THE VISUAL APPROACH CROSS 10  DME AT 3000  FEET OR ABOVE CLEARED FOR THE VISUAL 22  LEFT TO HOLD SHORT OF 27  PRECISION 3521  D 258  REDUCE AND MAINTAIN SPEED 170  TIL RIPIT TRAFFIC LANDING RUNWAY 22  LEFT WILL HOLD SHORT OF YOUR RUNWAY WILL COMPLY WITH ALL THAT D 258  PRECISION 3566  VFR DESCENT TO 4000  IS APPROVED TRAFFIC YOUR COMPANY GOING YOUR LEFT TO RIGHT 11  OCLOCK 5  MILES JUST LEAVING 4000  OK WELL BE LOOKING DOWN TO 4000  PRECISION 3566  PRECISION 3566  YOUR COMPANY IS AH NOW OVER TO 1  BECOMING 2  OCLOCK AND 3  MILES WE HAVE HIM IN SIGHT 35663566  DESCENTS AT YOUR DISCRETION TO CROSS 10  DME AT 3000  FEET OR ABOVE FOLLOW YOUR COMPANY AFTER LANDING 22  LEFT HOLD SHORT OF RUNWAY 27  OK WELL DO ALL THAT 3566  THANKS JET LINK 3844  TURN LEFT HEADING 330  LEFT 330  JET LINK 3844  D 258  CONTACT THE TOWER 119  . 11191  GOOD DAY GOOD DAY NOW PRECISION 3521  CONTACT THE TOWER 119  . 1191  GOOD DAY SIR GOOD DAY PRECISION 3566  CONTACT THE TOWER 119  . 1191  SO LONG AH BOSTON APPROACH US AIR 15247  AND A HALF FOR 6000  US AIR 1524  BOSTON GOOD AFTERNOON DESCEND AND MAINTAIN 4000  OK GOOD AFTERNOON CLEARED DOWN TO 4000  US AIR 1524  APPROACH US AIRS 1826  . 5  FOR 5000  US AIR 182  BOSTON APPROACH FLY HEADING 020020  US AIRS 182  US AIR 1524  DESCEND AND MAINTAIN 3000  DESCEND TO 3  US AIR 1524  JET LINK 3844  DESCEND AND MAINTAIN 3000  OUT OF 4  FOR 3  NOW 3844  US AIR 1524  YOU CAN ACCEPT A BASE LEG NOW AFFIRMATIVE US AIR 1524  US AIR 1524  TURN RIGHT HEADING 200  DESCEND AND MAINTAIN 2000  ADVISE RUNWAY 27  IN SIGHT OK AH WE GOT AH 27  IN SIGHT US AIR 1524  US AIRS 1524  IS CLEARED VISUAL APPROACH RUNWAY 27  AND TURN YOUR FINAL ON OR NORTH OF THE LOCALIZER PLEASE 1524  OK CLEARED VISUAL 27  JET LINK 3844  TRAFFIC 1233  MILES SOUTH BOUND ALTITUDE INDICATES 100063844  WERE LOOKING DONT SEE HIM US AIR 182  DESCEND AND MAINTAIN 30003000  U SS 182  AND BOSTON BIZEX 418  IS AH 5000  BIZEX 418  BOSTON APPROACH ROGER JET LINK 3844  TRAFFICS NO LONGER A FACTOR TURN LEFT HEADING 300  AND INTERCEPT THE LOCALIZER OK 300  AND INTERCEPT JET LINK 3844  US AIR 1524  TRAFFIC LANDING RUNWAY 22  LEFT WILL HOLD SHORT OF YOUR RUNWAY IF NEEDED CONTACT THE TOWER 119  . 1  GOOD DAY 191  US AIR 1524  US AIR 182  TURN LEFT HEADING OF 33033  O US AIRS 182  JET LINK 3844  YOURE 5  MILES FROM RIPIT MAINTAIN 2000  UNTIL ESTABLISHED CLEARED ILS DME APPROACH RUNWAY 272  TIL ESTABLISHED CLEARED FOR THE APPROACH JET LINK 3844  AND BOSTON BIZEX 418  HAS GOT THE AIRPORT IN SIGHT BIZEX 418  ROGER LOWER ALTITUDE IN 2  MILES OK US AIR 182  TURN LEFT HEADING 300  YOURE 5  MILES FROM L1 R CROSS L1 R AT 3000  CLEARED ILS DME APPROACH TO RUNWAY 27  CLEARED THE ILS DME 27  US AIRS 182  BIZEX 418  IS CLEARED VISUAL APPROACH RUNWAY 22  LEFT AFTER LANDING HOLD SHORT OF RUNWAY 27  CLEARED FOR THE VISUAL BIZEX 418  WELL HOLD SHORT OF 27  THANKS JET LINK 3844  MAINTAIN 1  AND 70  KNOTS TO RIPIT AND CONTACT THE TOWER 119  . 1   AIRSPEED 170  JET LINK 3844  SO LONG THANKS US AIR 182  MAINTAIN 1  AND 70  KNOTS TO RIPIT AND YOU CAN CONTACT THE TOWER NOW 119  . 1  BACK TO 170  US AIRS 182  BOSTON AH GOOD AFTERNOON AIR PORTUGAL AH 322  HEAVY ON A HEADING 240  TRANS PORTUGAL 322  HEAVY INTERCEPT THE LOCALIZER WILL DO BIZEX 418  CONTACT THE TOWER 119  . 1191  BIZEX 418  JET LINK 38  AH 06  BOSTON FLY HEADING OF 340  BO- YEAH BOSTON BIZEX 540005  VFR BIZEX 5  BOSTON APPROACH ROGER EXPECT LOWER ALTITUDE IN 7  MILES THANK YOU SIR BOSTON APPROACH AMERICAN 736  WITH YOU DESCENDING TO 5030  ON THE HEADING AMERICAN 736  BOSTON APPROACH ROGER FLY HEADING 360  AND DESCEND AND MAINTAIN 3000  DOWN TO 3360  ON THE HEADING AMERICAN 736  BOSTON JET LINK 3806  WITH YOU WITH THE AHMD80  IN SIGHT JET LINK 38  OH 6  BOSTON APPROACH ROGER TURN LEFT HEADING 330  LEFT 330  JET LINK 3806  TRANS PORTUGAL 322  HEAVY REDUCE SPEED TO 170  REDUCING 170  PORTUGAL 322  AMERICAN 736  TURN LEFT HEADING 330330  AMERICAN 736  JET LINK 38  OH 6  DESCEND AND MAINTAIN 3000  OUT OF 4  FOR 3000  JET LINK 3806  TRANS PORTUGAL 322  HEAVY DESCEND AND MAINTAIN 4  THOU WHEN YOUR SPEED IS AT 170  DESCEND AND MAINTAIN 4000  AT SPEED AH 170  CLEAR 4000322  HEAVY THANKS JET LINK 38  OH 6  YOUR BEST FORWARD SPEED FOR NOW PLEASE 3806  WELL DO THAT BIZEX 5  DESCENT YOUR DISCRETION AFTER LANDING 22  LEFT HOLD SHORT OF RUNWAY 27  OUR DISCRETION HOLD SHORT OF 27  BIZEX AH 5  THANKS BIZEX 5  YOURE NUMBER 1  FOR THE RUNWAY WELL DO THE BEST WE CAN SIR K AMERICAN 736  DESCEND AND MAINTAIN 2000  DOWN TO 2  AMERICAN 736  AIR ATLANTIC 4  OH 5  BOSTON AIR ATLANTIC 405  IS CHECKING IN OUT OF 5  FOR 4000  ATLANTIC 4  OH 5  ROGER FLY HEADING 260  AND DESCEND AND MAINTAIN 30002603000  AIR ATLANTIC 4  OH 5  THANKS JET LINK 38  OH 6  TURN LEFT HEADING 3003  ON THE HEADING JET LINK 3806  AMERICAN 736  AH MAINTAIN 1  AND 90  KNOTS OR GREATER ADVISE RUNWAY 27  IN SIGHT WE GOT THE FIELD 190  OR BETTER AMERICAN 736736  YOURE CLEARED VISUAL APPROACH RUNWAY 27  MAINTAIN AT 1  AND 90  KNOTS TO 5  DME 1  AND 90  TO 5  WE NUMBER 1  YES SIR WELL PICK IT UP BOSTON APPROACH COMMUTER 915  AT 4000  COMMUTER 915  BOSTON ROGER JET LINK 38  OH 6  TRAFFIC 334  MILES AND JUST 3  MILES NOWS HEAVY AIR BUS AH I WAS GOING TO TRY TO GET YOU IN AHEAD OF HIM CAN YOU KEEP YOUR SPEED UP AT 1  AND 90  TIL 5  OUT ROGER WE CAN DO THAT WE GOT THE GUY IN SIGHT  JET LINK 380638  OH 6  FOLLOW THE AMERICANMD80  YOURE CLEARED VISUAL APPROACH RUNWAY 27  MAINTAIN YOUR SPEED OK FOLLOW AMERICAN MAINTAIN SPEED JET LINK 3806  BIZEX 5  YOU TURNING IN NOW HERE WE GO BIZEX 5 S TURNING BASE 5  CONTACT THE TOWER 119  . 1  THANKS AIR ATLANTIC 405  REDUCE SPEED TO 170  AND FLY HEADING 250  AND INTERCEPT THE LOCALIZER 250  FOR THE INTERCEPT AND AH SAY AGAIN THE SPEED 2  AH 217170  ATLANTIC 4  OH 5  TRANS PORTUGAL 322  HEAVY YOURE 2  AND A HALF MILES FROM L1 R CROSS L1 R 3000  FEET OR ABOVE CLEARED ILS DME APPROACH RUNWAY 27  MAINTAIN 1  AND 70  KNOTS TO RIPIT PLEASE OK CONFIRM IT THE ILS YOURE CLEARED ILS DME APPROACH RUNWAY 27  TRANS PORTUGAL 322  HEAVY RUNWAY 27  OK THANK YOU CLEAR ILS 27  PORTUGAL 322  HEAVY THANKS AIR ATLANTIC 4  OH 5  YOURE A MILE FROM WAYNE CROSS WAYNE AT 3000  CLEARED ILS 22  LEFT APPROACH HOLD SHORT OF RUNWAY 27  MAINTAIN SPEED 170  TIL LINDY CHECK ALL OK WELL DO IT ATLANTIC 4  OH 5  AMERICAN 736  TRAFFIC LANDING 22  LEFT WILL SHORT OF YOUR RUNWAY CONTACT THE TOWER 119  . 1  GOOD DAY 191  GOOD DAY CONTINENTAL 1072  OUT OF 6  . 8  FOR 5000  K CONTINENTAL 1072  THANKS TRUMP 1080  YOUR PRESENT HEADING DESCEND AND MAINTAIN 4000  TRUMP 1080  YOUR PRESENT HEADING DESCEND AND MAINTAIN 4000  DESCEND TO 4  TRUMP 1080  THANKS BIZEX 5  TOWERS 119  . 1  COMMUTER 915  FLY HEADING AH 190  AND INTERCEPT THE LOCALIZER DESCEND AND MAINTAIN 3000190  WELL INTERCEPT THE LOCALIZER DOWN TO 3000  COMMUTER 915  AND CARE 2112  IS WITH YOU AT 1  . 5  CARE 2112  ROGER PROCEED  TO GRAVES FOR RUNWAY 27  ROGER TRUMP 1080  TURN LEFT HEADING 360  LEFT 36  OH TRUMP 1080  JET LINK 38  OH 6  TRAFFIC LANDING RUNWAY 22  LEFT WILL HOLD SHORT OF YOUR RUNWAY CONTACT THE TOWER 119  . 1  GOOD DAY GOOD JOB  3806  COMMUTER 915  REDUCE AND MAINTAIN 1  AND 70  KNOTS TIL LINDY YOU ARE 2  FROM WAYNE CROSS WAYNE 3000  FEET OR ABOVE CLEARED ILS RUNWAY 22  LEFT APPROACH WAYNE AT 3000  AND AH 170  TO LINDY COMMUTER 915  WERE CLEARED FOR THE ILS 22  LEFT THANKS TRANS PORTUGAL 322  HEAVY IF PRACTICAL REDUCE TO YOUR APPROACH SPEED NOW REDUCING APPROACH SPEED PORTUGAL 322  HEAVY AIR ATLANTIC 4  OH 5  CONTACT THE TOWER 1191  GOOD DAY 405  SEE YOU COMMUTER 9151  TIL LINDY CONTACT THE TOWER 119  . 1  GOOD DAY 191915  SO LONG NERA 3727  BOSTON APPROACH YOURE 10  MILES FROM WAYNE CROSS WAYNE 3000  FEET OR ABOVE YOURE CLEARED ILS RUNWAY 22  LEFT APPROACH HOLD SHORT OF RUNWAY 27   LOCALIZER  NERA 3727  BOSTON ROGER 9  MILES FROM WAYNE CROSS WAYNE 3000  FEET OR ABOVE CLEARED ILS APPROACH RUNWAY 22  LEFT HOLD SHORT OF RUNWAY 27  CROSS WAYNE 3  OR ABOVE CLEARED FOR THE APPROACH HOLD SHORT OF 273727  TRUMP 1080  TURN LEFT HEADING 330  AND DESCEND AND MAINTAIN 3000  LEFT 33  OH LEAVING 4  FOR 3  TRUMP 1080  CONTINENTAL 1072  TURN LEFT HEADING 360  AND DESCEND AND MAINTAIN 3000  DOWN TO 3  HEADING 360  CONTINENTAL 1072  OUT OF 5  THANKS TRUMP 1080  TURN LEFT HEADING 300  YOURE 6  MILES FROM RIPIT MAINTAIN 2000  UNTIL ESTABLISHED CLEARED ILS DME APPROACH RUNWAY 27  LEFT 3  CLEARED ILS DME 272  TIL ESTABLISHED TRUMP 1080  TRUMP 1080  REDUCE NOW AND MAINTAIN 1  AND 70  KNOTS TO RIPIT PRESENTLY 7  IN TRAIL OF A HEAVY AIR BUS 170  TO RIPIT TRUMP 1080  CONTINENTAL 1072  TURN LEFT HEADING 330330  CONTINENTAL 1072  CARE 2112  TURN RIGHT HEADING 010010  CARE 2112  NERA 3727  CONTACT THE TOWER 119  . 1  MAINTAIN AT LEAST 170  KNOTS TO LINDY CARRY 170  TO LINDY  CARE 2112  TRAFFIC AH 233  OCLOCK AND 4  MILES STANDBY TRANS PORTUGAL 322  HEAVY BOSTON CONTACT BOSTON TOWER 119  . 1  OVER 191  SO LONG BOSTON PRECISION 3508  WITH YOU 50003508  BOSTON ROGER TRUMP 1080  TRAFFIC LANDING 22  LEFT WILL HOLD SHORT OF YOUR RUNWAY CONTACT THE TOWER 119  . 1  TRUMP 1080  GOOD AFTERNOON CONTINENTAL 1072  TURN LEFT HEADING 300  AND INTERCEPT THE LOCALIZER 300  INTERCEPT CONTINENTAL 1072  CARE 2112  TRAFFIC TO FOLLOW IS 2  OCLOCK 3  MILES AND CROSSING RIGHT TO LEFT RESTRICTED ABOVE YOU IS ANMD80  CARE 2112  HAS THAT TRAFFIC SIR CARE 2112  DESCENT YOUR DISCRETION FOLLOW THAT TRAFFIC CAUTION THE WAKE TURBULENCE 2112  ROGER CONTINENTAL 1072  TRAFFIC 10  OCLOCK 2  MILES NORTHEAST BOUND AT 10005  IS A CESSNA 4  OH 2  WILL FOLLOW YOU TO THE FIELD ROGER THAT HES NOT IN SIGHT CONTINENTAL 1072  APPROACH SKY MAS- 61  IS WITH YOU AT 4000  FEET HEADING 160  MASTER 61  BOSTON APPROACH ROGER APPROACH CONTINENTAL 388  . FOR 5000  CONTINENTAL 380  BOSTON APPROACH FLY HEADING 020020  CONTINENTAL 380  PRECISION 3508  DESCEND AND MAINTAIN 2000  OK DOWN TO 2000  PRECISION 3508  CONTINENTAL 1072  TRAFFIC IS 11  OCLOCK AND A MILE OK AH CONTINENTAL 1072  LOOKING ACTUALLY CONTINENTAL 1072  HES JUST AHEAD A LITTLE BIT TO YOUR RIGHT NOW 1072  YOURE 5  FROM RIPIT MAINTAIN 2000  TIL ESTABLISHED CLEARED ILS DME APPROACH RUNWAY 27  ALL RIGHT SIR OUT OF 3000  CLEARED FOR THE APPROACH CONTINENTAL 1072  PRECISION 3508  YOURE FOLLOWING A MERLIN 2  OCLOCK FO- 4  MILES ON FINAL 181  FEET 3508  LOOKING FOR TRAFFIC 3508  FOLLOW THAT TRAFFIC TO RUNWAY 22  LEFT AFTER LANDING HOLD SHORT OF RUNWAY 27  OK WERE LOOKING FOR THAT TRAFFIC NOW OK PRECISION 3508  ROGER MAINTAIN 2000  PRESENT HEADING 35082000  PRESENT HEADING CACTUS 826  DESCEND AND MAINTAIN 4000  CACTUS 826  BOSTON PRECISION 3508  TURN RIGHT HEADING 120  OK TURN TO 120  PRECISION 3508  CACTUS 826  BOSTON SIR 8266000  CACTUS 826  FLY HEADING 100  DESCEND AND MAINTAIN 3000100  DOWN TO 3000  CACTUS 826  CONTINENTAL 380  REDUCE SPEED TO 210  CONTINENTAL 38210  SKY MASTER 61  TURN RIGHT HEADING 200  DESCEND VFR TO 30003000  OUT OF 4  FOR 3000  AND COMING RIGHT TO 200  SKY MASTER 61  APPROACH GOOD AFTERNOON US AIR 1615  OUT OF 8000  FOR 5000  CONTINENTAL 1072  CONTACT THE TOWER 191  CONTINENTAL 1072  CACTUS 826  TURN RIGHT HEADING 190190  CACTUS 826  US AIR 1615  BOSTON  FLY HEADING 030  HEADING 030  US AIR 1615  PRECISION 35  OH 8  TURN RIGHT HEADING 210   210  PRECISION 3508  CARE 2112  CONTACT THE TOWER 1911912112  CONTINENTAL 380  TURN LEFT HEADING 340  DESCEND AND MAINTAIN 4000340  DOWN TO 4000  CONTINENTAL 380  CACTUS 826  REDUCE SPEED TO 170  THEN MAINTAIN 2000  SLOW BACK 170  THEN 2000  CACTUS 826  PRECISION 35  OH 8  VERIFY 22  LEFT IN SIGHT PRECISION 35  OH 8  VERIFY 22  LEFT IN SIGHT PRECISION 350822  LEFT IN SIGHT PRECISION 35  OH 8  PROCEED INBOUND 22  LEFT HOLD SHORT OF 2722  LEFT HOLD SHORT OF 7  PRECISION 3508  CONTINENTAL 380  TURN LEFT HEADING 290  INTERCEPT THE LOCALIZER 27290  TO INTERCEPT THE LOCALIZER CONTINENTAL 380  CACTUS 826  TURN RIGHT HEADING 250  INTERCEPT THE LOCALIZER 27250  JOIN THE LOCALIZER 27  CACTUS  US AIR 1615  REDUCE SPEED TO 210  THEN MAINTAIN 4000   210  THEN DOWN TO 4  US AIR 1615  PRECISION 35  OH 8  CONTACT TOWER 191191  PRECISION 3508  SKY MASTER 61  DESCEND VFR YOUR DISCRETION ADVISE 22  LEFT IN SIGHT AND SKY MASTER 61  HAS VISUAL ON 22  LEFT SKY MASTER 61  PROCEED INBOUND 22  LEFT HOLD SHORT OF 27  SKY MASTER 61  INBOUND WELL HOLD AH SHORT OF 27  D 17766000  US AIR 1615  TURN LEFT HEADING 3403401615  CONTINENTAL 380  REDUCE SPEED TO 170  CONTINENTAL 380  SKY MASTER 61  CONTACT THE TOWER 119  . 1119  . 1  SEE YOU D 1776  FLY HEADING 100  MAINTAIN 4000  HEADING 100  DOWN TO 4000  D 1776  CACTUS 8263  FROM AH RIPIT INTERCEPT THE LOCALIZER AT OR ABOVE 2000  CLEARED ILS DME 27  APPROACH SPEED 170  TO RIPIT YES SIR WERE CLEARED ILS DME 27  APPROACH WELL DO ALL THAT CACTUS 826  CONTINENTAL 382  FROM THE I L1 R CROSS L1 R AT 3  OR ABOVE CLEARED ILS DME 27  APPROACH MAINTAIN 170  KNOTS TO L1 R CORRECTION 170  KNOTS UNTIL RIPIT 170  TIL RIPIT 3  UNTIL ESTABLISHED CLEARED ILS 27  CONTINENTAL 380  CACTUS 826  TRAFFIC LANDING 22  LEFT WILL HOLD SHORT OF YOUR RUNWAY ALL RIGHT THANK YOU CACTUS 826  ROGER US AIR 1615  REDUCE SPEED TO 170  THEN DESCEND AND MAINTAIN 3000170  THEN DOWN TO 3  US AIR 1615  D 1776  MAINTAIN 4000  THEN REDUCE SPEED TO 1704000  AND THEN SLOW TO 170  D 1776  CACTUS 826  CONTACT THE TOWER 119  . 1  CACTUS 826  ROGER CONTINENTAL 380  TRAFFIC LANDING RUNWAY 22  LEFT WILL BE HOLDING SHORT OF YOUR RUNWAY CONTINENTAL 380  APPROACH JET LINK 3854  IS 2  . 5  HEADING 360  JET LINK 3854  BOSTON APPROACH ROGER UNITED 174  HEAVYS WITH YOU AT 6  UNITED 174  HEAVY BOSTON APPROACH FLY HEADING 100100  UNITED 174  HEAVY D 1776  TURN RIGHT HEADING 190  RIGHT 190  D 1776  US AIR 1615  TURN LEFT HEADING 2903  FROM L1 R CROSS L1 R AT 3  OR ABOVE CLEARED ILS DME RUNWAY 27  APPROACH MAINTAIN 170  KNOTS UNTIL RIPIT CLEARED APPROACH MAINTAIN 170  TO RIPIT US AIR 1615  US AIR 1615  TRAFFIC LANDING RUNWAY 22  LEFT WILL BE HOLDING SHORT OF YOUR RUNWAY US AIR 1615  THANKS UNITED 174  HEAVY DESCEND AND MAINTAIN 4000  THEN REDUCE SPEED TO 170  DOWN TO 4  AND 170  UNITED 174  HEAVY JET LINK 3854  TURN LEFT HEADING 340340  JET LINK 3854  D 1776  TURN RIGHT HEADING 2503  AND A HALF MILES FROM L1 R CROSS L1 R AT 3  OR ABOVE CLEARED ILS DME RUNWAY 27  APPROACH SPEED 170  TO RIPIT CLEARED ILS DME 27  APPROACH D 1776  CONTINENTAL 380  CONTACT THE TOWER 119  . 1  SO LONG 380  SO LONG NOW BOSTON APPROACH AH D 110  HEAVY WITH YOU WERE OUT OF 6  DESCENDING TO 5000  D 110  HEAVY BOSTON APPROACH ROGER AT 5000  REDUCE SPEED TO 210  D 110  HEAVY SLOW TO 210  WHEN WE GET TO 5  JET LINK 3854  TURN LEFT HEADING 300  OK LEFT TO 33854  D 110  HEAVY CAUTION WAKE TURBULENCE SEQUENCED BEHIND A HEAVYDC10  OR HEAVY 767  RATHER D 110  HEAVY US AIR 1615  CONTACT TOWER 119  . 1  SO LONG THANK YOU SIR JET LINK 3854  TRAFFIC 12  OCLOCK 4  MILES BOEING 757  HES IN SIGHT 3854  JET LINK 3854  MAINTAIN THE 170  KNOTS TIL 5  DME FOLLOW THE BOEING 757  CAUTION WAKE TURBULENCE PROCEED INBOUND 27  OK AH 150  TO 5  DME OR 170  EXCUSE ME TO THE 5  DME IN UNITED 174  HEAVY TURN RIGHT HEADING 240240  UNITED 174  HEAVY D 1776  TRAFFIC LANDING RUNWAY 22  LEFT WILL BE HOLDING SHORT OF YOUR RUNWAY D 1776  ROGER UNITED 174  HEAVY CONTINUE RIGHT HEADING 260  INTERCEPT 27  LOCALIZER 260  INTERCEPT THE LOCALIZER UNITED 174  HEAVY D 110  HEAVY REDUCE SPEED TO 170  D 110  HEAVY SLOW TO 170  D 110  HEAVY TURN LEFT HEADING 300  INTERCEPT THE LOCALIZER D 110  HEAVY 300  AND INTERCEPT AIR WEST 74  HEAVYS 4  FROM L1 R CROSS L1 R 3  OR ABOVE CLEARED ILS DME RUNWAY 27  APPROACH MAINTAIN 170  KNOTS TO RIPIT K 170  TO RIPIT L1 R AT OR ABOVE 3  CLEARED THE APPROACH UNITED 174  HEAVY D 1776  CONTACT TOWER 119  . 1  D 1776  SO LONG D 110  HEAVY DESCEND AND MAINTAIN 4000  D 110  HEAVY DOWN TO 4  JET LINK 3854  REDUCE SPEED TO 150  OK BACK TO 1503854  D 110  HEAVY 5  AND A HALF FROM L1 R CROSS L1 R AT 3  OR ABOVE CLEARED ILS DME RUNWAY 27  APPROACH D 110  HEAVY ROGER CLEARED ILS DME 27  JET LINK 3854  TRAFFIC LANDING RUNWAY 22  LEFT WILL HOLD SHORT OF YOUR RUNWAY CONTACT THE TOWER NOW 119  . 1  SO LONG 191  HAVE A GOOD DAY SIR UNITED 174  HEAVY TRAFFIC LANDING RUNWAY 22  LEFT WILL BE HOLDING SHORT OF YOUR RUNWAY UNITED 174  HEAVY D 110  HEAVY TRAFFIC LANDING RUNWAY LEFT WILL BE HOLDING SHORT OF YOUR RUNWAY 110  HEAVY THANKS INFORMATION LS NOW CURRENT NO SIGNIFICANT CHANGE UNITED 174  HEAVY CONTACT TOWER 119  . 1  SO LONG UNITED 174  HEAVY SO LONG D 110  HEAVY IS 4  AND A QUARTER MILES BEHIND THE HEAVY THERES NOBODY BEHIND YOU SPEED AT YOUR DISCRETION IF YOU WANT TO REDUCE 110  HEAVY OK AH AND WERE 4  MILES BEHIND HIM AH 4  . 2   OK D 110  HEAVY CONTACT THE TOWER 119  . 1  SO LONG 110  BOSTON APPROACH UNITED 92  HEAVY AT 6000  UNITED 92  HEAVY BOSTON APPROACH ROGER FLY HEADING 1001  DEGREES UNITED 92  HEAVY UNITED 92  HEAVY DESCEND AND MAINTAIN 3000  DOWN TO 3000  UNITED 92  HEAVY WHAT NUMBER YOU PLANNING 92  TODAY FOR THE APPROACH AH UNITED 92  IS FOLLOWING TRAFFIC ON A 2  MILE FINAL ALL RIGHT APPROACH LUFTHANSA 422  HEAVY GOOD AFTERNOON OUT OF 8000  DESCENDING 6000  HEADING 240  LUFTHANSA 422  HEAVY BOSTON APPROACH FLY HEADING 260  DESCEND AND MAINTAIN 4000  DOWN 4000  HEADING 260  LUFTHANSA 422  UNITED 92  HEAVY DESCEND AND MAINTAIN 2000  TURN RIGHT HEADING 200  RIGHT TO HEAD 2  DEGREES DOWN TO 2000  UNITED AH 92  HEAVY LUFTHANSA 422  HEAVY INTERCEPT THE LOCALIZER INTERCEPTING LOCALIZER 27  LUFTHANSA 422  UNITED 92  HEAVY SPEED YOUR DISCRETION 92  HEAVY ROGER UNITED 92  HEAVY TURN RIGHT HEADING 2604  FROM RIPIT INTERCEPT THE LOCALIZER AT OR ABOVE 2000  CLEARED ILS DME RUNWAY 27  APPROACH HEADING 260  WERE CLEARED FOR THE ILS 27  UNITED AH 92  HEAVY UNITED 92  HEAVY TRAFFIC WILL BE LANDING RUNWAY 22  LEFT HOLDING SHORT OF YOUR RUNWAY 92  HEAVY UNITED 92  HEAVY CONTACT THE TOWER 119  . 1  SO LONG 191  WELL SEE YOU LUFTHANSA 422  HEAVY 6  MILES FROM L1 R CROSS L1 R AT OR ABOVE 3000  CLEARED ILS DME RUNWAY 27  APPROACH UNDERSTOOD CLEARED ILS DME APPROACH 27  LUFTHANSA 422  LUFTHANSA 422  HEAVY TRAFFIC WILL BE LANDING RUNWAY 22  LEFT HOLDING SHORT OF YOUR RUNWAY UNDERSTOOD LUFTHANSA 422  NORTHWEST 182  BOSTON NORTHWEST 182  BOSTON LUFTHANSA 422  HEAVY CONTACT TOWER 119  . 1   1191   LUFTHANSA 422  NORTHWEST 182  BOSTON BOSTON APPROACH NORTHWEST 1826000  NORTHWEST 182  TURN RIGHT HEADING 110  DESCEND AND MAINTAIN 3000  RIGHT HEADING 110  OUT OF 6  FOR 3000  NORTHWEST 182  BOSTON APPROACH AMERICANS 94  HEAVYS WITH YOU LEVEL 9000210  ON THE SPEED SAY AGAIN PLEASE ITS AMERICANS 94  HEAVY LEVEL 6000  AMERICAN 94  HEAVY BOSTON APPROACH FLY HEADING 100  HEADING 100  AMERICANS 94  HEAVY NORTHWEST 182  TURN RIGHT HEADING 190  DESCEND AND MAINTAIN 2000  RIGHT HEADING 190  DOWN TO 2000  NORTHWEST 182  AMERICAN 94  HEAVY DESCEND AND MAINTAIN 3000  OUT OF 6  FOR 3  AMERICANS 94  HEAVY NORTHWEST 182  IS 5  MILES FROM RIPIT TURN RIGHT HEADING 250  INTERCEPT THE LOCALIZER AT OR ABOVE 2000  CLEARED ILS DME RUNWAY 27  APPROACH RIGHT HEADING 250  RIPIT AT OR ABOVE AH 10007  CLEARED ILS AH 27  NORTHWEST 182  NORTHWEST 182  I MISSED ON THAT READ BACK ON THE ALTITUDE ITS INTERCEPT THE LOCALIZER AT OR ABOVE 2000  LOCALIZER AT OR ABOVE 2  NORTHWEST NORTHWEST 182   CLIPPER 538  FLY HEADING 010010583  NORTHWEST 182  IT LOOKS LIKE YOURE AH GOING THROUGH THE LOCALIZER FLY HEADING 290  TO REINTERCEPT CORRECTING NORTHWEST 182  AMERICAN 94  HEAVY TURN RIGHT HEADING 220  RIGHT TURN HEADING 220  AMERICANS 94  HEAVY CONTINENTAL 620  IS AT 6  CONTINENTAL 620  BOSTON APPROACH FLY HEADING 100620  CLIPPER 538  REDUCE SPEED TO 210  THEN DESCEND AND MAINTAIN 3000210  THEN DOWN TO 3000538  NORTHWEST 182  CONTACT THE TOWER 119  . 1191  NORTHWEST 182  AMERICAN 94  HEAVY TURN RIGHT HEADING 250  INTERCEPT 27  LOCALIZER RIGHT 250  INTERCEPT THE LOCALIZER AMERICANS 94  HEAVY CLIPPER 538  CAUTION WAKE TURBULENCE SEQUENCED BEHIND A HEAVY 538  WELL WATCH CONTINENTAL 620  DESCEND AND MAINTAIN 4000  DOWN TO 4620  CLIPPER 538  TURN LEFT HEADING 340  LEFT 340538  AMERICAN 94  HEAVY 6  FROM RIPIT INTERCEPT THE LOCALIZER 3000  OR ABOVE CLEARED ILS DME 27  APPROACH INTERCEPT THE LOCALIZER 3  OR ABOVE WERE CLEARED FOR THE APPROACH AMERICANS 94  HEAVY CONTINENTAL 620  FLY HEADING 090620  WE GOT AMERICAN IN SIGHT IF ITLL HELP YOU AH YOU BE FOLLOWING TRAFFIC FOLLOWING HIM AMERICAN 94  HEAVY SPEED 170  TO RIPIT OK GOT IT 94  HEAVY CLIPPER 538  REDUCE SPEED TO 170538170  CLIPPER 538  TURN LEFT HEADING 290  INTERCEPT THE LOCALIZER LEFT 290  AND INTERCEPT 538  NORTHWEST 1876  BOSTON CONTINENTAL 620  TURN RIGHT HEADING 180620  CLIPPER 5383  FROM L1 R CROSS L1 R 3  OR ABOVE CLEARED ILS DME 27  APPROACH SPEED 170  TO RIPIT 170  TO RIPIT AH 3000  AT AH L1 R AND CLEARED FOR THE APPROACH 538  NORTHWEST 1876  BOSTON AMERICAN 94  HEAVY CONTACT THE TOWER 119  . 1  AMERICAN 94  HEAVY SO LONG CONTINENTAL 620  REDUCE SPEED TO 170  TURN RIGHT HEADING 250  INTERCEPT THE LOCALIZER 620  NORTHWEST 1876  BOSTON NORTHWEST 1876  AT 5000  REDUCING NORTHWEST 1876  REDUCE SPEED TO 170170  NORTHWEST 1876  TURN LEFT HEADING 290290  NORTHWEST 876  CONTINENTAL 623  FROM L1 R CROSS L1 R 3  OR ABOVE CLEARED ILS DME RUNWAY 27  APPROACH MAINTAIN 170  KNOTS UNTIL RIPIT 620  NORTHWEST 1876  TURN LEFT HEADING 270  DESCEND AND MAINTAIN 4000270  DOWN TO 4  NORTHWEST 1876  CONTINENTAL 620  TRAFFIC LANDING RUNWAY 22  LEFT WILL HOLD SHORT OF YOUR RUNWAY THANK YOU NORTHWEST 1876  CONTINUE LEFT HEADING 250  AND INTERCEPT THE LOCALIZER 250  TO INTERCEPT NORTHWEST 1876  CLIPPER 538  TRAFFIC LANDING RUNWAY 22  LEFT WILL HOLD SHORT OF YOUR RUNWAY 538   2058  IS HERE 5000  REDUCING SPEED US AIR 2058  REDUCE SPEED TO 170170  ROGER CLIPPER 538  VERIFY SPEED 170  THATS IT EXACTLY THANK YOU NORTHWEST 1876  DESCEND AND MAINTAIN 30003000  NORTHWEST 1876  CONTINENTAL 620  REDUCE SPEED TO 150620  CLIPPER 538  CONTACT TOWER 119  . 1  GOOD DAY US AIR 2058  DESCEND AND MAINTAIN 40005  FOR 42058  NORTHWEST 18764  FROM L1 R CROSS L1 R 3  OR ABOVE CLEARED ILS DME 27  APPROACH SPEED 170  TO RIPIT CLEARED FOR THE APPROACH WILL COMPLY WITH THE RESTRICTIONS NORTHWEST 1876  US AIR 2058  TURN LEFT HEADING 300  INTERCEPT THE 27  LOCALIZER 300  ON COURSE 2058  NORTHWEST 1876  TRAFFIC LANDING RUNWAY 22  LEFT HOLDING SHORT OF YOUR RUNWAY OK CONTINENTAL 620  CONTACT THE TOWER 119  . 1  SO LONG 620  GOOD DAY US AIR 2058  IS 4  AND A HALF FROM L1 R CROSS L1 R AT OR ABOVE 3000  CLEARED ILS DME RUNWAY 27  APPROACH NEED 170  TO RIPIT CLEARED THE APPROACH US AIR 2058  US AIR 2058  TRAFFIC LANDING RUNWAY 22  LEFT WILL BE HOLDING SHORT OF YOUR RUNWAY AFTER YOUR ARRIVAL THERE WILL BE A FULL LENGTH ARRIVAL ON RUNWAY 22  LEFT ROGER THANK YOU SIR NORTHWEST 1876  CONTACT THE TOWER 119  . 1  GOOD DAY 191  GOOD DAY US AIR 2058  CONTACT THE TOWER 119  . 1  SO LONG YOU HAVE A NICE DAY SIR BOSTON CONTINENTAL 358  AH LEVELING AT 5000  HEADING 020  CONTINENTAL 358  BOSTON APPROACH ROGER THANK YOU CONTINENTAL 358  TURN LEFT HEADING 350350  CONTINENTAL 358  AH BOSTON SHAMROCK 135  IS WITH YOU OUT OF AH 9  FOR 6  AND WERE ON A HEADING TO ASSIGNED LOCALIZER SHAMROCK 135  HEAVY BOSTON APPROACH ROGER FLY HEADING 260  MAINTAIN 4000  INTERCEPT THE LOCALIZER OFF THE 260  HEADING OK 260  NOW AND DOWN TO 4000  SHAMROCK 135  CONTINENTAL 358  DESCEND AND MAINTAIN 3000  DOWN TO 3000  AH CONTINENTAL 358  CONTINENTAL 358  TURN LEFT HEADING 3005  FROM L1 R CROSS L1 R AT OR ABOVE 3000  CLEARED ILS DME RUNWAY 27  APPROACH AH 330  L1 R AT OR ABOVE 3  CLEARED ILS AH DME 27  AH CONTINENTAL 358  CONTINENTAL 358  INTERCEPT HEADING IS 3003  DEGREES 3  TO INTERCEPT CONTINENTAL 358  SHAMROCK 135  IS ESTABLISHED ON THE LOCALIZER SHAMROCK 135  HEAVY THANK YOU CLIPPER 796  OUT OF 6  FOR 5  CLIPPER 796  BOSTON APPROACH ROGER FLY HEADING 010010796  BOSTON APPROACH GOOD AFTERNOON TO YOU BIZEX 4634000  BIZEX 463  BOSTON APPROACH FLY HEADING 010010463  CONTINENTAL 358  TRAFFIC LANDING ON RUNWAY 22  LEFT WILL BE HOLDING SHORT OF YOUR RUNWAY MAINTAIN NO LESS THAN 170  KNOTS UNTIL RIPIT AH 170  TO RIPIT AH CONTINENTAL 358  ROGER SHAMROCK 135  HEAVY IS 6  MILES FROM AH L1 R CROSS L1 R AT 3000  OR ABOVE CLEARED ILS DME RUNWAY 27  APPROACH AND REDUCE SPEED TO 210  OK WELL SLOW TO 210  WERE CLEARED THE ILS DME APPROACH SHAMROCK AH 135  APPROACH AMERICAN 166  WITH YOU LEVELING 6000  WITH L AMERICAN 166  BOSTON APPROACH ROGER FLY HEADING 100  MAINTAIN 210  KNOTS K HEADING 110  AND 2  AND 10  KNOTS AMERICAN 166  CONTINENTAL 358  CONTACT TOWER 119  . 1  SO LONG CONTINENTAL 358  SO LONG APPROACH AMERICAN 166  AMERICAN 166  BOSTON SIR WHAT RUNWAY CAN WE EXPECT AMERICAN 166  ILS DME RUNWAY 27  APPROACH AMERICAN 166  ROGER BIZEX 463  TURN LEFT HEADING 350  LEFT TO 350  BIZEX 463  AMERICAN 166  FLY HEADING 120120  AMERICAN 166  SHAMROCK 135  HEAVY TRAFFIC LANDING RUNWAY 22  LEFT WILL HOLD SHORT OF YOUR RUNWAY REDUCE SPEED TO 170  UNTIL RIPIT OK WERE SLOWING AMERICAN 166  DESCEND AND MAINTAIN 4000  DOWN TO 4000  AMERICAN 166  CLIPPER 796  TURN LEFT HEADING 350  DESCEND AND MAINTAIN 3000350  AND 3000796  SHAMROCK 135  HEAVY CONTACT THE TOWER 119  . 1  GOOD DAY GOOD DAY SIR BIZEX 463  TURN LEFT HEADING 330  LEFT TO 330  BIZEX 463  CLIPPER 796  TURN LEFT HEADING 2905  FROM L1 R CROSS L1 R AT OR ABOVE 3000  CLEARED ILS DME RUNWAY 27  APPROACH SPEED 17  AH CORRECTION SPEED 210  OK 210290  CLEARED APPROACH 27796  AND BOSTON BIZEX 463  HAS THE 72  IN SIGHT BIZEX 463  TURN LEFT HEADING 300  CROSS 10  DME AT 3000  OR ABOVE FOLLOW THE BOEING 727  CLEARED FOR THE VISUAL APPROACH RUNWAY 27  AND MAINTAIN YOUR SPEED PLEASE 300  WELL CROSS 10  DME AT 3000  WERE CLEARED THE I AH VISUAL APPROACH BIZEX AH 463  CLIPPER 796  AFTER L1 R 170  KNOTS UNTIL RIPIT WELL DO IT 796  AMERICAN 166  TURN LEFT HEADING 090  REDUCE SPEED TO 170  LEFT 090  BACK TO 170  AMERICAN 166  AMERICAN 166  TURN RIGHT HEADING 190  RIGHT TO 190  AMERICAN 166  GOOD AFTERNOON BOSTON NERA 3768  AH LEVELING 4000020  ASSIGNED NERA 3768  BOSTON APPROACH ROGER CLIPPER 796  TRAFFIC LANDING RUNWAY 22  LEFT WILL BE HOLDING SHORT OF YOUR RUNWAY 796  AMERICAN 166  TURN RIGHT HEADING 260  INTERCEPT THE LOCALIZER 27  RIGHT TO 260  TO INTERCEPT AMERICAN AH 166  BIZEX 463  TRAFFIC LANDING RUNWAY 22  LEFT WILL BE HOLDING SHORT OF YOUR RUNWAY 463  ROGER THANKS CLIPPER 796  CONTACT THE TOWER 119  . 1  SO LONG 796  AH BOSTON APPROACH D 59  IS WITH YOU AH LEVEL 6000  ABOUT TO TURN LEFT TO HEADING 090  D 590  FLY HEADING 100100  D 590  AMERICAN 1663  AND A HALF FROM L1 R CROSS L1 R 3  OR ABOVE CLEARED ILS DME 27  APPROACH SPEED 170  UNTIL RIPIT AMERICAN 166  ROGER D 589  AH WITH YOU 8  . 5  FOR 6000  D 589  BOSTON APPROACH DESCEND AND MAINTAIN 5000  THEN REDUCE SPEED TO 2105000  AND SLOWING 210  D 589  NERA 3768  TURN RIGHT HEADING 040040  NERA 3768  D 590  DESCEND AND MAINTAIN 3000  D 590  IS OUT OF 6  FOR 3000  D 589  TRAFFIC VFR 1  OCLOCK 2  MILES SOUTHBOUND 40005  WHO WAS THAT FOR D 589  AND WERE LOOKING FOR HIM NO JOY NERA 3768  SAY SPEED 1703768  THANK YOU BIZEX 463  MAINTAIN 170  KNOTS UNTIL AH 5  DME ALL RIGHT WELL SLOW IT DOWN TO 170  TIL 5  DME BIZEX 463  AMERICAN 166  TRAFFIC LANDING RUNWAY 22  LEFT WILL HOLD SHORT OF YOUR RUNWAY AMERICAN 166  D 589  TRAFFIC IS NO LONGER A FACTOR THANK YOU 589  BOSTON NERA 3776  DESCENDING TO 4000  NERA 3776  BOSTON APPROACH ROGER NERA 3768  TURN BACK LEFT HEADING 0100103768  BIZEX 463  CONTACT THE TOWER 119  . 1191463  SEE YOU LATER D 590  REDUCE SPEED CORRECTION TURN RIGHT HEADING 190  RIGHT TO 190  D 590  D 589  REDUCE AH CONTINUE DESCENT TO AND MAINTAIN 3000  OK PASSING 6  . 5  FOR 3000  D 589  D 590  TURN RIGHT HEADING 220  FURTHER RIGHT 220  D 590  D 590  CONTINUE RIGHT HEADING 260  INTERCEPT THE LOCALIZER 260  AND INTERCEPT THE LOCALIZER D 590  APPROACH THIS IS AIR CANADA 806  JUST LEVELING AT 6  AIR CANADA 806  FLY HEADING 110110  AIR CANADA 806  NERA 3776  TURN LEFT HEADING 3403403776  D 590  REDUCE SPEED TO 1701  AND 70  KNOTS D 590  D 589  REDUCE SPEED TO 170  SLOWING TO 170  D 589  NERA 3768  IS GOING TO GO SLIGHTLY ACROSS THE LOCALIZER 3768  ROGER AND WE HAVE TRAFFIC AT AH 9  OCLOCK ROGER NERA 3768  TURN LEFT HEADING 260260  NERA 3768  D 590  AH IS AH 4  MILES FROM RIPIT MAINTAIN 2000  OR ABOVE UNTIL ESTABLISHED CLEARED ILS DME 27  APPROACH REDUCE SPEED TO 160  UNTIL RIPIT 160  ON SPEED MAINTAIN 22000  FEET OR ABOVE CLEARED ILS RUNWAY 2  ILS DME RUN RUNWAY 27  APPROACH D 590  AMERICAN 166  CONTACT THE TOWER 119  . 166  D 589  IS 2  FROM L1 R CROSS L1 R 3  OR ABOVE CLEARED ILS DME 27  APPROACH AND 170  KNOTS TO RIPIT 170  TO RIPIT AH CLEARED FOR APPROACH AH D 589  CANADA 806  DESCEND AND MAINTAIN 4000  AND REDUCE SPEED TO 170  DOWN TO 41700  ON THE SPEED AIR CANADA 806  NERA 3768  IS 5  MILES FROM L1 R CROSS L1 R 3  OR ABOVE CLEARED ILS DME 27  APPROACH SPEED 170  UNTIL RIPIT AH CLEARED FOR THE APPROACH AND 170  TO RIPIT 3768  NERA 3776  SAY SPEED 3776  INDICATING 190  THANK YOU D 590  CONTACT THE TOWER 119  . 1  SO LONG 19  . 1  SO LONG D 590  D 589  REDUCE SPEED TO 160  TO RIPIT SLOWING TO 160  D 589  NERA 3776  REDUCE SPEED TO 170  TURN LEFT HEADING 300  INTERCEPT THE LOCALIZER OK ROGER ON THE SPEED 300  TO INTERCEPT 3776  D 589  TRAFFIC LANDING RUNWAY 22  LEFT WILL HOLD SHORT OF YOUR RUNWAY 589  AIR CANADA 806  TURN RIGHT HEADING 180  RIGHT TURN 180  AIR CANADA 806  NERA 3768  REDUCE SPEED TO 160  UNTIL RIPIT 160  TO RIPIT 3768  D 589  CONTACT THE TOWER 119  . 1  SO LONG 191  GOOD DAY NERA 37764  FROM L1 R CROSS L1 R AT 3000  OR ABOVE CLEARED ILS DME RUNWAY 27  APPROACH MAINTAIN 170  KNOTS UNTIL RIPIT OK ROGER ON THE SPEED CLEARED FOR THE APPROACH CROSS AT 3000  OR ABOVE 3776  D 4405000  D 440  BOSTON APPROACH FLY HEADING 010  HEADING 010  D 440  NERA 3768  TRAFFIC LANDING RUNWAY 22  LEFT WILL HOLD SHORT OF YOUR RUNWAY 3768  ROGER APPROACH CONTINENTAL 1234  IS WITH YOU 66  FOR 6  AIR CANADA 806  TURN RIGHT HEADING 250  INTERCEPT THE LOCALIZER 250  INTERCEPT LOCALIZER AIR CANADA 806  CONTINENTAL 1234  BOSTON APPROACH FLY HEADING 110  MAINTAIN 210  KNOTS 110210  CONTINENTAL 1234  D CORRECTION CONTINENTAL 1234  DESCEND AH MAINTAIN 3000  DOWN TO 3  CONTINENTAL 1234  NERA 3768  CONTACT THE TOWER 119  . 119  . 1  ROGER D 440  REDUCE SPEED TO 210210  D 440  CANADA 8063  AND A HALF FROM L1 R CROSS L1 R AT 3000  OR ABOVE CLEARED ILS DME RUNWAY 27  APPROACH MAINTAIN 170  KNOTS UNTIL RIPIT 170  TO RIPIT CLEARED ILS AH 27  AIR CANADA 8078  AH 06  D 440  REDUCE SPEED FURTHER TO 170170  D 440  CONTINENTAL 1234  REDUCE SPEED TO 170  THEN MAINTAIN 3000  PLEASE 170  THEN 3  CONTINENTAL 1234  NERA 3776  CONTACT THE TOWER 119  . 1  SO LONG 3776  SEE YOU D 440  MAINTAIN 4000   4000  D 440  CONTINENTAL 1234  TURN RIGHT HEADING 190  MAINTAIN 2000190  AND DOWN TO 2  CONTINENTAL 1284  D 440  TURN LEFT HEADING 290  INTERCEPT THE LOCALIZER LEFT 290  INTERCEPT THE LOCALIZER D 440  CANADA 806  CONTACT THE TOWER 119  . 1  SO LONG 19  . 1  AIR CANADA 806  SO LONG CONTINENTAL 1234  TURN RIGHT HEADING 250  INTERCEPT THE 27  LOCALIZER 250  FOR THE INTERCEPT CONTINENTAL 1234  D 440  TRAFFIC 12  OCLOCK 6  MILES TURNING SOUTHWEST BOUNDMD80  DESCENDING OUT OF 4000  ROG D 440  D 440  IS 5  FROM L1 R CROSS L1 R 3  OR ABOVE CLEARED ILS DME 27  APPROACH SPEED OF 170  TO RIPIT CROSS L1 R 3  OR ABOVE 170  TO RIPIT CLEARED THE ILS DME 27  D 440  CONTINENTAL 1234  IS 4  FROM RIPIT INTERCEPT THE LOCALIZER AT OR ABOVE 2000  CLEARED ILS DME 27  APPROACH SPEED 170  TO RIPIT CONTINENTAL 1234 TWA 754  HEAVY LEVEL 5000 TWA 754  HEAVY BOSTON APPROACH DESCEND AND MAINTAIN 3000  THEN REDUCE SPEED TO 170  DOWN TO 3000  THEN SLOW TO 170 TWA 754  HEAVYTWA 754  HEAVY TURN RIGHT HEADING 190  RIGHT 190 TWA 754  HEAVY CONTINENTAL 1234  CONTACT THE TOWER ON 119  . 1  SO LONG CONTINENTAL 1234  UNITED 352  AT 5000  UNITED 352  HEAVY BOSTON APPROACH REDUCE SPEED TO 170  SLOW TO 170  UNITED 352  HEAVYTWA 754  HEAVY TURN RIGHT HEADING 220  RIGHT 220 TWA 754  HEAVY D 440  TRAFFIC LANDING RUNWAY 22  LEFT WILL HOLD SHORT OF YOUR RUNWAY ROGER D 440 TWA 754  HEAVY TURN RIGHT HEADING 260  INTERCEPT THE LOCALIZER 260  TO INTERCEPT THE LOCALIZERTWA 754  HEAVY UNITED 352  HEAVY MAINTAIN 4000  DOWN TO 4  WELL LEAVE 5  UNITED 352 TWA 754  HEAVY 3  FROM RIP CORRECTION 3  FROM L1 R CROSS L1 R AT 3000  CLEARED ILS DME 27  APPROACH SPEED 170  UNTIL RIPIT CLEARED FOR THE APPROACH 170  TO RIPITTWA 754  HEAVY UNITED 352  HEAVY TURN RIGHT HEADING 190  RIGHT 190  UNITED 352  D 440  CONTACT THE TOWER 119  . 1  SO LONG GOOD DAY UNITED 352  HEAVY 3  AND A HALF FROM L1 R TURN LEFT CORRECTION TURN RIGHT HEADING 260  CROSS L1 R 3000  OR ABOVE CLEARED ILS DME 27  APPROACH RIGHT 260  L1 R 3  OR ABOVE ABOVE AND AH CLEARED 27  ILS UNITED 352  HEAVY  APPROACH GOOD AFTERNOON VIRGIN 011  HEAVY PASSING 90005  DESCENDING 6000  HEADING 240  VIRGIN 011  HEAVY BOSTON APPROACH FLY HEADING 260  TO INTERCEPT THE LOCALIZER MAINTAIN 4000  HEADING 260  INTERCEPT LOCALIZER MAINTAIN 4000  VIRGIN 011  HEAVYTWA 754  HEAVY CONTACT THE TOWER 119  . 1  GOOD NIGHT 191  GOOD NIGHT GOOD AFTERNOON DARK IN HERETWA 810  HEAVY LEVEL 6000 TWA 810  HEAVY BOSTON APPROACH ROGERTWA 810  HEAVY TRAFFIC 11  OCLOCK 4  MILES SOUTHBOUND 1000  FEET ABOVE YOU 810  UNITED 352  HEAVY CONTACT THE TOWER 119  . 1  GOOD DAY 191  UNITED 352  HEAVY SO LONGTWA 810  HEAVY TRAFFIC IS AH 113012  OCLOCK 2  MILES WELL NO JOY WE GOT SOME AH LOW LYING SCUD IN HERE AH TALLY HOTWA 810  HEAVY DESCEND AND MAINTAIN 4000  DOWN TO 4000 TWA 810  HEAVY VIRGIN 11  HEAVY SAY SPEED AH VIRGIN 11  HEAVY 190  ALL RIGHT VIRGIN 11  HEAVY IN THE FUTURE IF YOU COULD JUST LET ME KNOW BE PRIOR TO REDUCING BELOW LAST ASSIGNED AIRSPEED SO I CAN PLAN APPROPRIATELY MY APOLOGIES VIRGIN 11 TWA 810  HEAVY DESCEND AND MAINTAIN 2000  DOWN 2000 TW810  HEAVYTWA 810  HEAVY TURN RIGHT HEADING 190190810  VIRGIN 11  HEAVY REDUCE SPEED TO 170  THEN DESCEND AND MAINTAIN 3000  REDUCE SPEED 170  DESCEND MAINTAIN 3000  VIRGIN 11  HEAVYTWA 810  HEAVY TURN RIGHT HEADING 220220810  APPROACH 308 ELWITH YOU AT 6  GULFSTREAM 308 ELBOSTON APPROACH ROGER FLY HEADING 100  CAUTION WAKE TURBULENCE YOURE GOING TO FOLLOW A HEAVY BOEING 747  ON FINAL TODAY 8 ELTWA810  HEAVY 4  FROM RIPIT TURN RIGHT HEADING 250  INTERCEPT THE LOCALIZER AT OR ABOVE 2000  CLEARED ILS DME RUNWAY 27  APPROACH 250  WELL DO THE REST OF ITTWA 810  HEAVYTWA 810  HEAVY SPEED NO LESS THAN 170  UNTIL AH RIPIT PLEASE GIVE YOU THAT VIRGIN 11  HEAVYS 3  AND 1  HALF MILES FROM L1 R CROSS L1 R AT 3000  OR ABOVE CLEARED ILS DME RUNWAY 27  APPROACH SPEED 170  UNTIL RIPIT CAUTION WAKE TURBULENCE YOURE 4  AND A HALF BEHIND A HEAVY TRI STAR VIRGINS 11  HEAVY UNDERSTOOD GULFSTREAM 8 ELDESCEND AND MAINTAIN 3000  OUT OF 6  FOR 3000  FEET 8 ELTWA810  HEAVY TRAFFIC LANDING RUNWAY 22  LEFT WILL BE HOLDING SHORT OF YOUR RUNWAY 810  THANK YOU APPROACH NORTHWEST 46  HEAVY AT 6000  NORTHWEST 46  HEAVY BOSTON APPROACH FLY HEADING 100100  VIRGIN 11  HEAVY TRAFFIC WILL BE LANDING ON RUNWAY 22  LEFT HOLDING SHORT OF YOUR RUNWAY VIRGIN 11  HEAVY COPYTWA 810  HEAVY CONTACT THE TOWER NOW 119  . 1  GOOD NIGHT 191810  BOSTON US 1910  IS OUT OF 6  FOR 5  HEADING 020  US AIR 1910  BOSTON APPROACH ROGER CAUTION WAKE TURBULENCE SEQUENCED TODAY BEHIND A HEAVYDC10  THANK YOU NORTHWEST 46  HEAVY DESCEND AND MAINTAIN 4000  THEN REDUCE SPEED TO 170  DOWN TO 4000  SLOW TO 170  NORTHWEST 46  HEAVY WERE OUT OF 6  GULFSTREAM 8 ELREDUCE SPEED TO 170  TURN RIGHT HEADING 190190  HEADING 170  SPEED 8 ELVIRGIN 11  HEAVY CONTACT THE TOWER NOW 119  . 1  GOOD DAY TOWER 119  . 1  VIRGIN 011  HEAVY GOOD NIGHT SIR US AIR 1910  REDUCE SPEED TO 210210  US 1910  NORTHWEST 46  HEAVY FLY HEADING 090090  NORTHWEST 46  US AIR 16177  FOR 5  US AIR 1617  BOSTON APPROACH ROGER NORTHWEST 46  HEAVY IF I GAVE YOU SOMETHING DIFFERENT DESCEND AND MAINTAIN 3000  K ON DOWN TO 3000  FOR NORTHWEST 46  GULFSTREAM 8 ELTURN RIGHT HEADING 270270  HEADING 8 ELGULFSTREAM 8 ELMY TURN WAS LATE FLY HEADING OF AH 290  YOURE A MILE AND A HALF FROM L1 R CROSS L1 R AT 3  OR ABOVE CLEARED ILS DME APPROACH SPEED 170  UNTIL RIPIT 290  TO INTERCEPT CLEARED FOR THE 27  ILS DME AND AH 170  TO RIPIT 8 ELNORTHWEST 46  HEAVY TURN RIGHT HEADING 190  HEADING AH 90  DEGREES 6000  NORTHWEST 46  HEAVY TURN RIGHT HEADING 190  RIGHT TO 190  NORTHWEST 46  NORTHWEST 330  BOSTON APPROACH ROGER US AIR 1910  DESCEND AND MAINTAIN 4000  TURN LEFT HEADING 350350  AND 4000  US 1910  WERE AT 210  NOW GULFSTREAM 8 ELTRAFFIC LANDING RUNWAY 22  LEFT WILL BE HOLDING SHORT OF YOUR RUNWAY 8 ELTHANK YOU NORTHWEST 330  REDUCE SPEED TO 170170  NORTHWEST 330  US 1910  REDUCE SPEED TO 170170  US 1910  NORTHWEST 46  HEAVY TURN RIGHT HEADING 260  INTERCEPT THE LOCALIZER RIGHT TO 260  INTERCEPT THE LOCALIZER NORTHWEST 46  US AIR 1617  TURN LEFT HEADING 350  REDUCE SPEED TO 210350  HEADING 210  SPEED US AIR 1617  NORTHWEST 46  HEAVY IS A MILE FROM L1 R CROSS L1 R 3000  CLEARED ILS DME 27  APPROACH 170  KNOTS TO RIPIT OK L1 R AT 3000  CLEARED FOR THE ILS 27  APPROACH NORTHWEST 46  HEAVY US AIR 1910  TURN LEFT HEADING 2906  AND A HALF MILES FROM L1 R CROSS L1 R 3  OR ABOVE CLEARED ILS DME 27  APPROACH SPEED 170  UNTIL RIPIT US 1910  CLEARED APPROACH 27  WITH ALL THE REST NORTHWEST 46  HEAVY TRAFFIC LANDING RUNWAY 22  LEFT WILL BE HOLDING SHORT OF YOUR RUNWAY 46  NORTHWEST 330  DESCEND AND MAINTAIN 40004000  NORTHWEST 330  LEAVING 6  GULFSTREAM 308 ELCONTACT THE TOWER 119  . 1  GOOD DAY 8 ELA PLEASANT DAY SIR US AIR 1617  REDUCE SPEED FURTHER TO 170  THEN DESCEND AND MAINTAIN 3000170  THE SPEED THEN DOWN TO 3000  FEET US AIR 1617  NORTHWEST 330  FLY HEADING 1001  NORTHWEST 330  AT10 TION ALL AIRCRAFT INFORMATION M IS NOW CURRENT THE TEMPERATURE DROPPED DOWN A WHOLE DEGREE TO 88  A COLD FRONT YEAH US 1617  TURN LEFT HEADING 290  INTERCEPT THE LOCALIZER OK 290  INTERCEPT US AIR 1617  NORTHWEST 46  HEAVY CONTACT THE TOWER 119  . 1  SO LONG SO LONG FOR NORTHWEST 46  US AIR 1617  IS 5  FROM L1 R CROSS L1 R 3000  OR ABOVE CLEARED ILS DME RUNWAY 27  APPROACH MAINTAIN 170  KNOTS TIL RIPIT OK L1 R AT 3  OR ABOVE CLEARED THE APPROACH 170  TO RIPIT US AIR 1617  NORTHWEST 330  TURN RIGHT HEADING 190190  NORTHWEST 330  NORTHWEST 330  TURN RIGHT HEADING 250  INTERCEPT THE LOCALIZER OK 250  ON THE HEADING INTERCEPT THE LOCALIZER NORTHWEST 330  GOING TO SEND 1910  OVER TO THE TOWER NORTHWEST 330  IS 5  FROM L1 R CROSS L1 R 3  OR ABOVE CLEARED ILS DME RUNWAY 27  APPROACH OK AH 3000  UNTIL L1RIBELIEVE YOU SAID CLEARED FOR THE ILS DME 27  NORTHWEST 330  US AIR 1910  CONTACT THE TOWER 119  . 1  SO LONG US AIR 1910  BOSTON TRUMP 1090  IS WITH YOU 6  AH 507  FOR 6  NO 5000  EXCUSE ME TRUMP 1090  BOSTON APPROACH ROGER FLY HEADING 350  HEADING 350  TRUMP 1090  US AIR 1617  CONTACT THE TOWER 119  . 1  US AIR 1617  NORTHWEST 330  TRAFFIC WILL BE LANDING RUNWAY 22  LEFT HOLDING SHORT OF YOUR RUNWAY NORTHWEST 330  ROGER NORTHWEST 330  CONTACT THE TOWER 119  . 1191  YOU HAVE A NICE AFTERNOON THANKS YOU TOO TRUMP 1090  DESCEND AND MAINTAIN 3000  DOWN TO 3000  TRUMP 1090  TRUMP 1090  TURN LEFT HEADING 300  YOURE 5  FROM L1 R CROSS L1 R AT OR ABOVE 3000  CLEARED ILS DME RUNWAY 27  APPROACH FLY HEADING 300  AND WERE CLEARED FOR THE APPROACH TRUMP 1090  TRUMP 1090  CONTACT TOWER 119  . 1  TRUMP 1090  THANK YOU BOSTON APPROACH AH BIZEX 465  WITH YOU DESCENDING TO 4000  BIZEX 465  BOSTON APPROACH THANK YOU SAY HEADING  010  VERY GOOD THANK YOU BOSTON APPROACH CLIPPER 6540  AT 5000  CLIPPER 6540  BOSTON APPROACH THANK YOU FLY HEADING OF AH 010  MAINTAIN PRESENT SPEED HEADING 010  CLIPPER 6540  BIZEX 465  TRAFFIC AH 7  TO 8  OCLOCK AND 5  MILES 5000  FEET BE PASSING OFF YOUR LEFT SIDE A 727  HELL BE AHEAD OF YOU ON THE APPROACH REPORT WHEN YOU GET HIM IN SIGHT YOU CAN HAVE THE VISUAL TO FOLLOW AH WILL REPORT HIM AS SOON AS WE HAVE HIM 465  APPROACH AH BIZEX AH 465  HAS TRAFFIC BIZEX 465  ROGER FLY HEADING 360  YOU CAN EXPECT THE VISUAL TO FOLLOW HEADING 360  AH 465  CLIPPER 6540  TURN LEFT HEADING 3603606540  BIZEX 465  TURN LEFT HEADING 350350  FOR BIZEX 465  CLIPPER 56540  DESCEND AND MAINTAIN 30006540  TO 3000  CLIPPER 6540  TRAFFIC 230  AND 4  MILES AT 4000  FEET IS A SHORT 6  HE HAS YOU IN SIGHT HELL BE FOLLOWING YOU TO THE AIRPORT HES LEVEL AT 46540  BIZEX 465  MAINTAIN VISUAL SEPARATION WITH THE 727  AT THIS TIME TURN LEFT HEADING 320  LEFT 320  AND WELL MAINTAIN THE VISUAL AH BIZEX 465  THANKS AND HES NOW OUT OF 5  FOR 3  IN SIGHT CLIPPER 6540  TURN LEFT HEADING 3303306540  CLIPPER 6540  TURN LEFT HEADING 300  INTERCEPT THE LOCALIZER HEADING 300  INTERCEPT THE LOCALIZER 6540  BIZEX 465  CROSS 10  DME AT OR ABOVE 3000  CLEARED VISUAL APPROACH RUNWAY 27  FOLLOW THE 727  K 10  DME AT OR ABOVE 3000  AND AH WELL FOLLOW THE 727  AH 465  CLIPPER 6547  MILES FROM RIPIT HEADING 300  MAINTAIN 3000  TIL ESTABLISHED ON THE LOCALIZER CLEARED ILS DME RUNWAY 27  APPROACH SPEED 190  OR GREATER TO RIPIT 6540  AH 190  OR GREATER TO AH RIPIT CLIPPER 6540  YOULL BE JOINING ABOUT 3  FROM RIPIT YOU CAN MAINTAIN AT OR ABOVE 2000  NOW TIL ESTABLISHED'"
      ]
     },
     "execution_count": 347,
     "metadata": {},
     "output_type": "execute_result"
    }
   ],
   "source": [
    "test_string"
   ]
  },
  {
   "cell_type": "code",
   "execution_count": 289,
   "metadata": {},
   "outputs": [
    {
     "ename": "NameError",
     "evalue": "name 'Alpha' is not defined",
     "output_type": "error",
     "traceback": [
      "\u001b[1;31m---------------------------------------------------------------------------\u001b[0m",
      "\u001b[1;31mNameError\u001b[0m                                 Traceback (most recent call last)",
      "\u001b[1;32m~\\AppData\\Local\\Temp/ipykernel_19764/3128613203.py\u001b[0m in \u001b[0;36m<module>\u001b[1;34m\u001b[0m\n\u001b[1;32m----> 1\u001b[1;33m \u001b[0mAlpha\u001b[0m\u001b[1;33m,\u001b[0m \u001b[0mBravo\u001b[0m\u001b[1;33m,\u001b[0m \u001b[0mCharlie\u001b[0m\u001b[1;33m,\u001b[0m \u001b[0mDelta\u001b[0m\u001b[1;33m,\u001b[0m \u001b[0mEcho\u001b[0m\u001b[1;33m,\u001b[0m \u001b[0mFoxtrot\u001b[0m\u001b[1;33m,\u001b[0m \u001b[0mGolf\u001b[0m\u001b[1;33m,\u001b[0m \u001b[0mHotel\u001b[0m\u001b[1;33m,\u001b[0m \u001b[0mIndia\u001b[0m\u001b[1;33m,\u001b[0m \u001b[0mJuliet\u001b[0m\u001b[1;33m,\u001b[0m \u001b[0mKilo\u001b[0m\u001b[1;33m,\u001b[0m \u001b[0mLima\u001b[0m\u001b[1;33m,\u001b[0m \u001b[0mMike\u001b[0m\u001b[1;33m,\u001b[0m \u001b[0mNovember\u001b[0m\u001b[1;33m,\u001b[0m \u001b[0mOscar\u001b[0m\u001b[1;33m,\u001b[0m \u001b[0mPapa\u001b[0m\u001b[1;33m,\u001b[0m \u001b[0mQuebec\u001b[0m\u001b[1;33m,\u001b[0m \u001b[0mRomeo\u001b[0m\u001b[1;33m,\u001b[0m \u001b[0mSierra\u001b[0m\u001b[1;33m,\u001b[0m \u001b[0mTango\u001b[0m\u001b[1;33m,\u001b[0m \u001b[0mUniform\u001b[0m\u001b[1;33m,\u001b[0m \u001b[0mVictor\u001b[0m\u001b[1;33m,\u001b[0m \u001b[0mWhiskey\u001b[0m\u001b[1;33m,\u001b[0m \u001b[0mX\u001b[0m\u001b[1;33m-\u001b[0m\u001b[0mray\u001b[0m\u001b[1;33m,\u001b[0m \u001b[0mYankee\u001b[0m\u001b[1;33m,\u001b[0m \u001b[0mZulu\u001b[0m\u001b[1;33m\u001b[0m\u001b[1;33m\u001b[0m\u001b[0m\n\u001b[0m",
      "\u001b[1;31mNameError\u001b[0m: name 'Alpha' is not defined"
     ]
    }
   ],
   "source": [
    "Alpha, Bravo, Charlie, Delta, Echo, Foxtrot, Golf, Hotel, India, Juliet, Kilo, Lima, Mike, November, Oscar, Papa, Quebec, Romeo, Sierra, Tango, Uniform, Victor, Whiskey, X-ray, Yankee, Zulu"
   ]
  },
  {
   "cell_type": "markdown",
   "metadata": {},
   "source": []
  },
  {
   "cell_type": "code",
   "execution_count": 173,
   "metadata": {},
   "outputs": [
    {
     "name": "stdout",
     "output_type": "stream",
     "text": [
      "The original string is : one fifty three\n",
      "The string after performing replace : 53\n"
     ]
    }
   ],
   "source": [
    "\n",
    "from word2number import w2n\n",
    "  \n",
    "# initializing string\n",
    "test_str = \"one fifty three\"\n",
    "# printing original string\n",
    "print(\"The original string is : \" + test_str)\n",
    "  \n",
    "# Convert numeric words to numbers\n",
    "# Using word2number\n",
    "res = w2n.word_to_num(test_str)\n",
    "  \n",
    "# printing result \n",
    "print(\"The string after performing replace : \" + str(res)) "
   ]
  },
  {
   "cell_type": "code",
   "execution_count": 76,
   "metadata": {},
   "outputs": [],
   "source": [
    "string_test = 'hi my name is michael'.split()"
   ]
  },
  {
   "cell_type": "code",
   "execution_count": 77,
   "metadata": {},
   "outputs": [
    {
     "data": {
      "text/plain": [
       "'hi'"
      ]
     },
     "execution_count": 77,
     "metadata": {},
     "output_type": "execute_result"
    }
   ],
   "source": [
    "string_test[0]"
   ]
  },
  {
   "cell_type": "code",
   "execution_count": 73,
   "metadata": {},
   "outputs": [
    {
     "data": {
      "text/plain": [
       "6"
      ]
     },
     "execution_count": 73,
     "metadata": {},
     "output_type": "execute_result"
    }
   ],
   "source": [
    "parse_int('one two three')"
   ]
  },
  {
   "cell_type": "markdown",
   "metadata": {},
   "source": [
    "# Cleaning different data sets"
   ]
  },
  {
   "cell_type": "markdown",
   "metadata": {},
   "source": [
    "# Calculating the WER"
   ]
  },
  {
   "cell_type": "code",
   "execution_count": 348,
   "metadata": {},
   "outputs": [],
   "source": [
    "ground_truth = \"hello world hi hello\"\n",
    "hypothesis = \"hello duck hi hello\"\n",
    "\n",
    "error = wer(test_string, tran_appareo)"
   ]
  },
  {
   "cell_type": "code",
   "execution_count": 349,
   "metadata": {},
   "outputs": [
    {
     "data": {
      "text/plain": [
       "0.21629368316613384"
      ]
     },
     "execution_count": 349,
     "metadata": {},
     "output_type": "execute_result"
    }
   ],
   "source": [
    "error"
   ]
  },
  {
   "cell_type": "code",
   "execution_count": null,
   "metadata": {},
   "outputs": [],
   "source": []
  }
 ],
 "metadata": {
  "interpreter": {
   "hash": "cc66bf1a1cac9323b91927a78f07dc7e452d6b2e297a31f577966bda590b7c6f"
  },
  "kernelspec": {
   "display_name": "Python 3.8.5 64-bit ('base': conda)",
   "language": "python",
   "name": "python3"
  },
  "language_info": {
   "codemirror_mode": {
    "name": "ipython",
    "version": 3
   },
   "file_extension": ".py",
   "mimetype": "text/x-python",
   "name": "python",
   "nbconvert_exporter": "python",
   "pygments_lexer": "ipython3",
   "version": "3.8.5"
  },
  "orig_nbformat": 4
 },
 "nbformat": 4,
 "nbformat_minor": 2
}
